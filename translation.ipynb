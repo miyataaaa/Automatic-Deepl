{
 "cells": [
  {
   "attachments": {},
   "cell_type": "markdown",
   "id": "567d94b3-d623-4d36-8e7c-3a88d6999da5",
   "metadata": {},
   "source": [
    "# main"
   ]
  },
  {
   "attachments": {},
   "cell_type": "markdown",
   "id": "9d74f318-5501-4e3b-817e-f6dfca71a544",
   "metadata": {},
   "source": [
    "### 各セクションタイトル部分は先頭文字が数字になっているか確認＋woed内の各セルの末尾に余計な改行がないか確認"
   ]
  },
  {
   "attachments": {},
   "cell_type": "markdown",
   "id": "e88414b0-5540-497e-b026-55d38c8cfda3",
   "metadata": {},
   "source": [
    "### automatic_translation.pyファイルの最後にあるif__name__==\"__main__\"以降のファイル名等を変更後に以下のセルを実行してください。"
   ]
  },
  {
   "cell_type": "code",
   "execution_count": 2,
   "id": "225d3e0b-e221-40ca-8c1c-f10b99685907",
   "metadata": {},
   "outputs": [
    {
     "name": "stdout",
     "output_type": "stream",
     "text": [
      "Total sensentces in this articl = 8\n",
      "len(split_list): 2\n",
      "i=0\n",
      "split_list: ['Dendritic, i.e., tree-like, river networks are ubiquitous features on Earth’s landscapes; however, how and why river networks organize themselves into this form are incompletely understood. A branching pattern has been argued to be an optimal state. Therefore, we should expect models of river evolution to drastically reorganize (suboptimal) purely nondendritic networks into (more optimal) dendritic networks. To date, current physically based models of river basin evolution are incapable of achieving this result without substantial allogenic forcing. Here, we present a model that does indeed accomplish massive drainage reorganization. The key feature in our model is basin-wide lateral incision of bedrock channels. The addition of this submodel allows for channels to laterally migrate, which generates river capture events and drainage migration. An important factor in the model that dictates the rate and frequency of drainage network reorganization is the ratio of two parameters, the lateral and vertical rock erodibility constants. In addition, our model is unique from others because its simulations approach a dynamic steady state. At a dynamic steady state, drainage networks persistently reorganize instead of approaching a stable configuration. Our model results suggest that lateral bedrock incision processes can drive major drainage reorganization and explain apparent long-lived transience in landscapes on Earth', 'What should a drainage network look like? Fig. 1A shows a single channel, winding its way through the catchment so as to have access to water and sediment from unchannelized zones in the same manner as the dendritic (tree-like) network of Fig. 1B. It appears straightforward that the dendritic pattern is a model for nature, and the single channel is not. Dendritic drainage networks are called such because of their similarity to branching trees, and their patterns are “characterized by irregular branching in all directions” (1) with “tributaries joining at acute angles” (2). Drainage networks can also take on other forms such as parallel, pinnate, rectangular, and trellis in nature (2). However, drainage networks in their most basic form without topographic, lithologic, and tectonic constraints should tend toward a dendritic form (2). In addition, drainage networks that take a branching, tree-like form have been argued to be “optimal channel networks” that minimize total energy dissipation (3, 4). Therefore, we would expect that models simulating river network formation, named landscape evolution models (LEMs), that use the nondendritic pattern of Fig. 1A as an initial condition to massively reorganize and approach the dendritic steady state of Fig. 1B. To date, no numerical LEM has shown the ability to do this. Here, we present a LEM that can indeed accomplish such a reorganization. A corollary of this ability is the result that landscapes approach a dynamic, rather than static steady state', 'There is indeed debate as to whether landscapes tend toward an equilibrium that is frozen or highly dynamic (5). Hack (6) hypothesized that erosional landscapes attain a steady state where “all elements of the topography are downwasting at the same rate.” This hypothesis has been tested in numerical models and small-scale experiments. Researchers found that numerical LEMs create static topographies (7, 8). In this state, erosion and uplift are in balance in all locations in the landscape, resulting in landscapes that are dissected by stable drainage networks in geometric equilibrium (9). The landscape has achieved geometric equilibrium in planform when a proxy for steady-state river elevation, named χ (10), has equal values across all drainage divides. In contrast, experimental landscapes (7, 11) develop drainage networks that persistently reorganize. Recent research on field landscapes suggests that drainage divides migrate until reaching geometric equilibrium (9), but other field-based research suggests that landscapes may never attain geometric equilibrium (12)', 'The dynamism of the equilibrium state determines the persistence of initial conditions in experimental and model landscapes. It is important to understand initial condition effects (13) to better constrain uncertainty in LEM predictions. Kwang and Parker (7) demonstrate that numerical LEMs exhibit “extreme memory,” where small topographic perturbations in initial conditions are amplified and preserved during a landscape’s evolution (Fig. 2A). Extreme memory in the numerical models is closely related to the feasible optimality phenomenon found within the research on optimal channel networks (4). These researchers suggest that nature’s search for the most “stable” river network configuration is “myopic” and unable to find configurations that completely ignore their initial condition. In contrast to numerical models, experimental landscapes (7, 11) reach a highly dynamic state where altraces of initial surface conditions are erased by drainage network reorganization. It has been hypothesized that lateral erosion processes are responsible for drainage network reorganization in landscapes (7, 14); these processes are not included in most LEMs']\n",
      "i=1\n",
      "split_list: ['Most widely used LEMs simulate incision into bedrock solely in the vertical direction. However, there is growing recognition that bedrock channels also shape the landscape by incising laterally (15, 16). Lateral migration into bedrock is important for the creation of strath terraces (17, 18) and the morphology of wide bedrock valleys (19–21). Recently, Langston and Tucker (22) developed a formulation for lateral bedrock erosion in LEMs. Here, we implement their submodel to explore the long-term behavior of LEMs that incorporate lateral erosion', 'The LEM submodel of Langston and Tucker (22) allows for channels to migrate laterally. By including this autogenic mechanism, we hypothesize that lateral bedrock erosion creates instabilities that 1) shred (23) the memory of initial conditions such as the unrealistic configurations of Fig. 1A and 2) produce landscapes that achieve a statistical steady state instead of a static one. By incorporating the lateral incision component (22) into a LEM, we aim to answer the following: 1) What controls the rate of decay of signals from initial conditions? 2) What are the frequency and magnitude of drainage reorganization in an equilibrium landscape? 3) What roles do model boundary conditions play in landscape reorganization?', 'Willett and Brandon (24) described two types of steady states. The simplest case, a flux steady state, requires the sum of erosional fluxes across the landscape to equal the total amount of flux entering the landscape (via uplift or baselevel lowering). The second case, a more stringent definition, is “static steady state” [also named topographic steady state in Willett and Brandon (24)]. Here, local erosion rates across the entire landscape are equal to an uplift or ベースレベル lowering rate, resulting in a frozen landscape with a static drainage network, which also satisfies the flux steady-state condition', 'We present a modified definition named “dynamic steady state,” where a landscape achieves a flux steady state but not a static steady state. Under this condition, the total amount of flux entering and leaving the landscape is balanced, but a precise local balance between uplift and erosion at all locations in the catchment will never occur. Generally, experimental landscapes (7, 11) tend toward dynamic steady states, whereas numerical LEMs (7, 8) achieve static steady states with frozen drainage networks. We emphasize that both dynamic steady state and static steady state would satisfy the broad definition of Hack’s “dynamic equilibrium,” where “all elements of the topography are downwasting at the same rate” (6).']\n",
      "i=0\n",
      ": Dendritic, i.e., tree-like, river networks are ubiquitous features on Earth’s landscapes; however, how and why river networks organize themselves into this form are incompletely understood. A branching pattern has been argued to be an optimal state. Therefore, we should expect models of river evolution to drastically reorganize (suboptimal) purely nondendritic networks into (more optimal) dendritic networks. To date, current physically based models of river basin evolution are incapable of achieving this result without substantial allogenic forcing. Here, we present a model that does indeed accomplish massive drainage reorganization. The key feature in our model is basin-wide lateral incision of bedrock channels. The addition of this submodel allows for channels to laterally migrate, which generates river capture events and drainage migration. An important factor in the model that dictates the rate and frequency of drainage network reorganization is the ratio of two parameters, the lateral and vertical rock erodibility constants. In addition, our model is unique from others because its simulations approach a dynamic steady state. At a dynamic steady state, drainage networks persistently reorganize instead of approaching a stable configuration. Our model results suggest that lateral bedrock incision processes can drive major drainage reorganization and explain apparent long-lived transience in landscapes on Earth\n",
      "\n",
      "i=0\n",
      ": Most widely used LEMs simulate incision into bedrock solely in the vertical direction. However, there is growing recognition that bedrock channels also shape the landscape by incising laterally (15, 16). Lateral migration into bedrock is important for the creation of strath terraces (17, 18) and the morphology of wide bedrock valleys (19–21). Recently, Langston and Tucker (22) developed a formulation for lateral bedrock erosion in LEMs. Here, we implement their submodel to explore the long-term behavior of LEMs that incorporate lateral erosion\n",
      "\n",
      "translated_text: \n",
      "樹枝状、すなわち樹木のような河川ネットワークは、地球上のいたるところに見られる特徴である。しかし、河川ネットワークがどのようにして、またなぜこのような形態に組織化されるのかは、十分に理解されていない。分岐パターンは最適な状態であると主張されてきた。したがって、河川進化のモデルは、（最適でない）純粋な樹枝状ネットワークを（より最適な）樹枝状ネットワークへと劇的に再編成することを期待すべきである。現在までのところ、河川流域の進化に関する現在の物理学的モデルは、相当な同種の強制がない限り、この結果を達成することができない。ここでは、大規模な流域再編成を実際に達成するモデルを提示する。このモデルにおける重要な特徴は、岩盤流路の流域全体での側方切開である。このサブモデルを追加することで、河道の横方向への移動が可能になり、河川の捕捉イベントと排水の移動が発生する。排水路網の再編成の速度と頻度を決定するこのモデルにおける重要な要因は、2つのパラメータ、横方向と垂直方向の岩盤侵食性定数の比である。さらに、我々のモデルは、シミュレーションが動的定常状態に近づくという点で、他のモデルとは異なる。動的定常状態では、排水ネットワークは安定した配置に近づくのではなく、持続的に再編成される。我々のモデルの結果は、横方向の岩盤切開プロセスが大規模な排水の再編成を引き起こす可能性を示唆しており、地球上の景観における見かけ上長期にわたる遷移を説明するものである。\n",
      " len: 624\n",
      "\n",
      "i=1\n",
      ": What should a drainage network look like? Fig. 1A shows a single channel, winding its way through the catchment so as to have access to water and sediment from unchannelized zones in the same manner as the dendritic (tree-like) network of Fig. 1B. It appears straightforward that the dendritic pattern is a model for nature, and the single channel is not. Dendritic drainage networks are called such because of their similarity to branching trees, and their patterns are “characterized by irregular branching in all directions” (1) with “tributaries joining at acute angles” (2). Drainage networks can also take on other forms such as parallel, pinnate, rectangular, and trellis in nature (2). However, drainage networks in their most basic form without topographic, lithologic, and tectonic constraints should tend toward a dendritic form (2). In addition, drainage networks that take a branching, tree-like form have been argued to be “optimal channel networks” that minimize total energy dissipation (3, 4). Therefore, we would expect that models simulating river network formation, named landscape evolution models (LEMs), that use the nondendritic pattern of Fig. 1A as an initial condition to massively reorganize and approach the dendritic steady state of Fig. 1B. To date, no numerical LEM has shown the ability to do this. Here, we present a LEM that can indeed accomplish such a reorganization. A corollary of this ability is the result that landscapes approach a dynamic, rather than static steady state\n",
      "\n",
      "translated_text: \n",
      "広く使われているLEMのほとんどは、岩盤への切込みを鉛直方向のみでシミュレートしている。しかし、岩盤流路は横方向にも切込みを入れて地形を形成することが認識されつつある(15, 16)。岩盤への横方向の移動は、ストラス段丘の形成（17, 18）や広い岩盤渓谷の形態形成（19-21）に重要である。最近、LangstonとTucker(22)は、LEMにおける側方岩盤侵食の定式化を開発した。ここでは、彼らのサブモデルを実装し、側方侵食を組み込んだLEMの長期挙動を探る。\n",
      " len: 234\n",
      "\n",
      "i=1\n",
      ": The LEM submodel of Langston and Tucker (22) allows for channels to migrate laterally. By including this autogenic mechanism, we hypothesize that lateral bedrock erosion creates instabilities that 1) shred (23) the memory of initial conditions such as the unrealistic configurations of Fig. 1A and 2) produce landscapes that achieve a statistical steady state instead of a static one. By incorporating the lateral incision component (22) into a LEM, we aim to answer the following: 1) What controls the rate of decay of signals from initial conditions? 2) What are the frequency and magnitude of drainage reorganization in an equilibrium landscape? 3) What roles do model boundary conditions play in landscape reorganization?\n",
      "\n",
      "translated_text: \n",
      "排水ネットワークはどのようにあるべきか？図1Aは、図1Bの樹枝状（樹木状）ネットワークと同じように、水路のないゾーンから水と土砂にアクセスできるように、集水域を曲がりくねって流れる単一の水路を示している。樹枝状パターンは自然のモデルであり、単一水路はそうではないということは、一見わかりやすい。樹枝状排水ネットワークは、枝分かれする樹木に似ていることからこのように呼ばれ、そのパターンは「あらゆる方向に不規則に枝分かれするのが特徴」(1)で、「支流は鋭角に合流する」(2)。排水ネットワークはまた、平行型、羽状型、矩形型、トレリス型など、他の形態をとることもある(2)。しかし、地形的、岩石学的、地殻学的な制約のない最も基本的な形態の排水ネットワークは、樹枝状形態に向かう傾向があるはずである(2)。さらに、枝分かれした樹木状の形態をとる排水ネットワークは、総エネルギー散逸を最小化する「最適な流路ネットワーク」であると主張されている(3, 4)。したがって、図1Aの非樹枝状パターンを初期条件とする河川ネットワーク形成をシミュレートするモデル（景観進化モデル（LEM））は、大規模に再編成され、図1Bの樹枝状定常状態に近づくと予想される。現在までのところ、このような能力を示した数値的LEMはない。ここでは、実際にそのような再編成を達成できるLEMを示す。この能力の副次的な結果として、樹状突起の形状が定常状態ではなく、動的な状態に近づくことがわかった。\n",
      " len: 628\n",
      "\n",
      "i=2\n",
      ": There is indeed debate as to whether landscapes tend toward an equilibrium that is frozen or highly dynamic (5). Hack (6) hypothesized that erosional landscapes attain a steady state where “all elements of the topography are downwasting at the same rate.” This hypothesis has been tested in numerical models and small-scale experiments. Researchers found that numerical LEMs create static topographies (7, 8). In this state, erosion and uplift are in balance in all locations in the landscape, resulting in landscapes that are dissected by stable drainage networks in geometric equilibrium (9). The landscape has achieved geometric equilibrium in planform when a proxy for steady-state river elevation, named χ (10), has equal values across all drainage divides. In contrast, experimental landscapes (7, 11) develop drainage networks that persistently reorganize. Recent research on field landscapes suggests that drainage divides migrate until reaching geometric equilibrium (9), but other field-based research suggests that landscapes may never attain geometric equilibrium (12)\n",
      "\n",
      "translated_text: \n",
      "LangstonとTuckerのLEMサブモデル(22)は、チャネルが横方向に移動することを可能にしている。この自生的なメカニズムを含めることによって、我々は、横方向の岩盤侵食が、1）図1Aの非現実的な構成のような初期条件の記憶を細断し（23）、2）静的な定常状態ではなく統計的な定常状態を達成する景観を作り出す不安定性を生み出すという仮説を立てた。横方向の切込み成分(22)をLEMに組み込むことによって、我々は以下のことに答えることを目的とする： 1) 初期状態からの信号の減衰速度を制御するものは何か？2) 平衡地形における排水再編成の頻度と大きさはどの程度か？3) 地形再編成においてモデルの境界条件はどのような役割を果たすか？\n",
      " len: 318\n",
      "\n",
      "i=2\n",
      ": Willett and Brandon (24) described two types of steady states. The simplest case, a flux steady state, requires the sum of erosional fluxes across the landscape to equal the total amount of flux entering the landscape (via uplift or baselevel lowering). The second case, a more stringent definition, is “static steady state” [also named topographic steady state in Willett and Brandon (24)]. Here, local erosion rates across the entire landscape are equal to an uplift or ベースレベル lowering rate, resulting in a frozen landscape with a static drainage network, which also satisfies the flux steady-state condition\n",
      "\n",
      "translated_text: \n",
      "景観が凍りついたような平衡状態に向かうのか、それとも非常に動的な平衡状態に向かうのかについては、実際に議論がある(5)。ハック（6）は、侵食地形は「地形のすべての要素が同じ速度で下降する」という定常状態に達するという仮説を立てた。この仮説は、数値モデルや小規模な実験で検証されている。研究者たちは、数値LEMが静的な地形を作り出すことを発見した(7, 8)。この状態では、浸食と隆起が地形内のすべての場所で均衡しており、幾何学的平衡状態にある安定した排水ネットワークによって分断された地形が形成される(9)。χ(10)と名付けられた定常状態の河川標高の代用値が、すべての排水区間で等しい値を持つとき、ランドスケープは平面形状において幾何学的平衡を達成したことになる。これとは対照的に、実験的景観（7, 11）では、排水ネットワークが持続的に再編成される。フィールド景観に関する最近の研究では、幾何学的平衡に達するまで排水分水界が移動することが示唆されている(9)が、他のフィールドベースの研究では、景観が幾何学的平衡に達しない可能性が示唆されている(12)\n",
      " len: 478\n",
      "\n",
      "i=3\n",
      ": The dynamism of the equilibrium state determines the persistence of initial conditions in experimental and model landscapes. It is important to understand initial condition effects (13) to better constrain uncertainty in LEM predictions. Kwang and Parker (7) demonstrate that numerical LEMs exhibit “extreme memory,” where small topographic perturbations in initial conditions are amplified and preserved during a landscape’s evolution (Fig. 2A). Extreme memory in the numerical models is closely related to the feasible optimality phenomenon found within the research on optimal channel networks (4). These researchers suggest that nature’s search for the most “stable” river network configuration is “myopic” and unable to find configurations that completely ignore their initial condition. In contrast to numerical models, experimental landscapes (7, 11) reach a highly dynamic state where altraces of initial surface conditions are erased by drainage network reorganization. It has been hypothesized that lateral erosion processes are responsible for drainage network reorganization in landscapes (7, 14); these processes are not included in most LEMs\n",
      "\n",
      "translated_text: \n",
      "WillettとBrandon(24)は、2種類の定常状態を説明した。最も単純なケースであるフラックス定常状態は、地形全体の侵食フラックスの合計が、（隆起または基底レベルの低下によって）地形に流入するフラックスの合計量と等しくなることを必要とする。2つ目のケースは、より厳密な定義で、「静的定常状態」（Willett and Brandon (24)では地形定常状態とも呼ばれている）である。ここでは、ランドスケープ全体にわたる局所的な侵食速度は、隆起または基底レベルの降下速度と等しく、その結果、静的な排水ネットワークを持つ凍結したランドスケープとなり、フラックス定常状態の条件も満たす。\n",
      " len: 295\n",
      "\n",
      "i=3\n",
      ": We present a modified definition named “dynamic steady state,” where a landscape achieves a flux steady state but not a static steady state. Under this condition, the total amount of flux entering and leaving the landscape is balanced, but a precise local balance between uplift and erosion at all locations in the catchment will never occur. Generally, experimental landscapes (7, 11) tend toward dynamic steady states, whereas numerical LEMs (7, 8) achieve static steady states with frozen drainage networks. We emphasize that both dynamic steady state and static steady state would satisfy the broad definition of Hack’s “dynamic equilibrium,” where “all elements of the topography are downwasting at the same rate” (6).\n",
      "\n",
      "translated_text: \n",
      "平衡状態のダイナミズムは、実験およびモデルランドスケープにおける初期状態の持続性を決定する。LEM予測における不確実性をより適切に抑制するためには、初期状態の影響(13)を理解することが重要である。KwangとParker(7)は、数値LEMが「エクストリーム・メモリー」を示し、初期条件における小さな地形摂動が増幅され、ランドスケープの進化の過程で保存されることを示した（図2A）。数値モデルにおけるエクストリーム・メモリーは、最適チャネル・ネットワークの研究(4)で見られる実現可能な最適性現象と密接に関連している。これらの研究者は、最も「安定した」河川ネットワーク構成を求める自然界の探索は「近視眼的」であり、初期条件を完全に無視した構成を見つけることができないことを示唆している。数値モデルとは対照的に、実験的な景観(7, 11)は、排水ネットワークの再編成によって初期の表面状態の痕跡が完全に消去されるという、非常に動的な状態に達する。ランドスケープにおける排水ネットワークの再編成には、側方侵食プロセスが関与しているという仮説がある(7, 14)。\n",
      " len: 480\n",
      "\n",
      "translated_text: \n",
      "我々は、ランドスケープがフラックス定常状態を達成するが、静的定常状態を達成しない、「動的定常状態」と名付けられた修正定義を提示する。この条件下では、ランドスケープに流入するフラックスと流出するフラックスの総量は釣り合っているが、集水域のすべての場所で隆起と侵食の正確な局所的な釣り合いが生じることはない。一般に、実験的なランドスケープ（7, 11）は動的な定常状態に向かう傾向があるが、数値的なLEM（7, 8）は凍結した排水ネットワークを用いて静的な定常状態を達成する。我々は、動的定常状態と静的定常状態の両方が、「地形のすべての要素が同じ速度で下降する」(6)というHackの「動的平衡」の広義の定義を満たすことを強調する。\n",
      " len: 314\n",
      "\n",
      "\n",
      "IPython CPU timings (estimated):\n",
      "  User   :       0.25 s.\n",
      "  System :       0.00 s.\n",
      "Wall time:      50.06 s.\n"
     ]
    }
   ],
   "source": [
    "%run -i -t v5_automatic_translation.py"
   ]
  },
  {
   "cell_type": "code",
   "execution_count": null,
   "id": "ba0980f3",
   "metadata": {},
   "outputs": [],
   "source": [
    "def _translation_deepl(self, sourse_texts=[]):\n",
    "\n",
    "        \"\"\"\n",
    "        抜き出した英文をdeeplにコピペして翻訳する関数。引数は翻訳する文章が要素のリスト\n",
    "\n",
    "        \"\"\"\n",
    "\n",
    "        res = requests.get('https://chromedriver.storage.googleapis.com/LATEST_RELEASE')\n",
    "        browser = webdriver.Chrome(ChromeDriverManager(res.text).install())\n",
    "        url = 'https://www.deepl.com/ja/translator'\n",
    "        browser.get(url)\n",
    "        # deepleにアクセスするまでしばらく待つ\n",
    "        time.sleep(1)\n",
    "        # wordの文章をparagraph単位で翻訳していく\n",
    "        # 先頭が数字の場合にセクションのタイトルと判定している。\n",
    "        translated_texts = []\n",
    "        for i in range(len(sourse_texts)):         \n",
    "            sourse_text = sourse_texts[i]\n",
    "\n",
    "            print(\"i={}\\n: {}\\n\".format(i, sourse_text))\n",
    "\n",
    "            stextarea = browser.find_element_by_css_selector(\n",
    "                '.lmt__textarea.lmt__source_textarea.lmt__textarea_base_style')\n",
    "            ttextarea = browser.find_element_by_css_selector(\n",
    "                '.lmt__textarea.lmt__target_textarea.lmt__textarea_base_style')\n",
    "            \n",
    "            lock.acquire()\n",
    "            # stextarea.send_keys(sourse_text) #この方法だと絵文字（数式を送る事ができない）\n",
    "            # javascriptを仕込む方法に変更 2022/4/22 https://tech.bita.jp/article/19\n",
    "            INPUT_EMOJI = \"\"\"\n",
    "            arguments[0].value += arguments[1];\n",
    "            arguments[0].dispatchEvent(new Event('change'));\n",
    "            \"\"\"\n",
    "            browser.execute_script(INPUT_EMOJI, stextarea, sourse_text)\n",
    "            lock.release()\n",
    "\n",
    "            translated_text = ''\n",
    "\n",
    "            lock.acquire()\n",
    "            # 完全に翻訳されるまで繰り返す。判定は翻訳後文章の文字数が0かどうか\n",
    "            # 文字数が0の場合は繰り返される。\n",
    "            sec = self.wating_sec\n",
    "            while not translated_text:\n",
    "                # print(\"keep now....\")\n",
    "                time.sleep(sec)\n",
    "                translated_text = ttextarea.get_property('value')\n",
    "                print(\"translated_text: \\n{}\\n len: {}\\n \".format(translated_text, len(translated_text))) \n",
    "                can_translated = re.search(\"\\[\\.\\.\\.\\]\", translated_text)\n",
    "                if type(can_translated) is re.Match:\n",
    "                    print(\"\\ntry again\\n\")\n",
    "                    translated_text = ''\n",
    "                    sec += 2\n",
    "                elif len(translated_text) == 0: # 翻訳されていない場合（[...]すら表示されていないパターン）\n",
    "                    print(\"\\ntry again\\n\")\n",
    "                    translated_text = ''\n",
    "                    sec += 2\n",
    "                else:\n",
    "                    if self.replace_flag_jp_to_jp:\n",
    "                        translated_texts.append(self._keyword_replace(translated_text))\n",
    "                    else:\n",
    "                        translated_texts.append(translated_text)\n",
    "\n",
    "            # ここに翻訳結果が出力されたら成功（途中経過をjupyter notebookで確認する場合はコメントイン）\n",
    "            #print(translated_text)    \n",
    "            lock.release()\n",
    "\n",
    "            # sourse_textareaをクリアする\n",
    "            time.sleep(2)\n",
    "            stextarea.send_keys(Keys.CONTROL, \"a\")\n",
    "            stextarea.send_keys(Keys.BACKSPACE)\n",
    "            \n",
    "        return translated_texts"
   ]
  },
  {
   "cell_type": "code",
   "execution_count": 3,
   "id": "cd1871e6",
   "metadata": {},
   "outputs": [
    {
     "name": "stdout",
     "output_type": "stream",
     "text": [
      "Element not found\n"
     ]
    }
   ],
   "source": [
    "from bs4 import BeautifulSoup\n",
    "import requests\n",
    "\n",
    "sourse_text = \"こんにちは\"\n",
    "\n",
    "url = \"https://www.deepl.com/ja/translator\"\n",
    "\n",
    "data = {\n",
    "    \"text\": sourse_text,\n",
    "    \"source_lang\": \"EN\",\n",
    "    \"target_lang\": \"JA\"\n",
    "}\n",
    "\n",
    "res = requests.post(url, data=data)\n",
    "soup = BeautifulSoup(res.text, 'html.parser')\n",
    "\n",
    "translated = soup.find(\"div\", {\"class\":\"lmt__translations_as_text\"})\n",
    "\n",
    "if translated:\n",
    "    translated_text = translated.text\n",
    "    print(translated_text)\n",
    "else:\n",
    "    print(\"Element not found\")\n",
    "\n"
   ]
  },
  {
   "cell_type": "code",
   "execution_count": null,
   "id": "d634246b",
   "metadata": {},
   "outputs": [],
   "source": [
    "#headlessui-tabs-panel-7 > div > div.border-dark-7.border.bg-white.shadow-sm.xl\\:rounded-lg > section > div > div.rounded-bl-inherit.rounded-br-inherit.grid.grid-cols-1.grid-rows-\\[auto_auto\\].min-\\[768px\\]\\:grid-cols-\\[1fr_auto_1fr\\].min-\\[768px\\]\\:grid-rows-\\[1fr\\].TextTranslatorLayout-module--bothareas--wXSVy > div.rounded-bl-inherit.relative.z-\\[1\\].min-h-\\[240px\\].min-w-0.md\\:min-h-\\[clamp\\(250px\\,50vh\\,557px\\)\\] > section > div > div.relative.flex-1 > d-textarea > div:nth-child(1)"
   ]
  },
  {
   "attachments": {},
   "cell_type": "markdown",
   "id": "c02c1f9e",
   "metadata": {},
   "source": [
    "## end point"
   ]
  }
 ],
 "metadata": {
  "kernelspec": {
   "display_name": "Python 3.8.0 ('translation_dev')",
   "language": "python",
   "name": "python3"
  },
  "language_info": {
   "codemirror_mode": {
    "name": "ipython",
    "version": 3
   },
   "file_extension": ".py",
   "mimetype": "text/x-python",
   "name": "python",
   "nbconvert_exporter": "python",
   "pygments_lexer": "ipython3",
   "version": "3.10.13"
  },
  "vscode": {
   "interpreter": {
    "hash": "18b957c9e8d5aaa7908da56451be5fc4eea397278b5e97527909761e26652314"
   }
  }
 },
 "nbformat": 4,
 "nbformat_minor": 5
}
