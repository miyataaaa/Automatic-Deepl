{
 "cells": [
  {
   "attachments": {},
   "cell_type": "markdown",
   "id": "6604525f-b429-46db-8044-33b24b6e6d90",
   "metadata": {},
   "source": [
    "## sentense from \"test_Timescales of landscape response to divide migration .dock\""
   ]
  },
  {
   "cell_type": "code",
   "execution_count": 1,
   "id": "049b6aff-5427-4fab-8812-598e0f889b6a",
   "metadata": {},
   "outputs": [
    {
     "name": "stdout",
     "output_type": "stream",
     "text": [
      "Collecting webdriver-manager\n",
      "  Downloading webdriver_manager-3.4.2-py2.py3-none-any.whl (16 kB)\n",
      "Collecting configparser\n",
      "  Downloading configparser-5.0.2-py3-none-any.whl (19 kB)\n",
      "Requirement already satisfied: requests in c:\\users\\miyar\\anaconda3\\lib\\site-packages (from webdriver-manager) (2.25.1)\n",
      "Collecting crayons\n",
      "  Downloading crayons-0.4.0-py2.py3-none-any.whl (4.6 kB)\n",
      "Requirement already satisfied: colorama in c:\\users\\miyar\\anaconda3\\lib\\site-packages (from crayons->webdriver-manager) (0.4.4)\n",
      "Requirement already satisfied: chardet<5,>=3.0.2 in c:\\users\\miyar\\anaconda3\\lib\\site-packages (from requests->webdriver-manager) (3.0.4)\n",
      "Requirement already satisfied: urllib3<1.27,>=1.21.1 in c:\\users\\miyar\\anaconda3\\lib\\site-packages (from requests->webdriver-manager) (1.26.6)\n",
      "Requirement already satisfied: certifi>=2017.4.17 in c:\\users\\miyar\\anaconda3\\lib\\site-packages (from requests->webdriver-manager) (2021.5.30)\n",
      "Requirement already satisfied: idna<3,>=2.5 in c:\\users\\miyar\\anaconda3\\lib\\site-packages (from requests->webdriver-manager) (2.10)\n",
      "Installing collected packages: crayons, configparser, webdriver-manager\n",
      "Successfully installed configparser-5.0.2 crayons-0.4.0 webdriver-manager-3.4.2\n"
     ]
    }
   ],
   "source": [
    "!pip install webdriver-manager"
   ]
  },
  {
   "cell_type": "code",
   "execution_count": null,
   "id": "cedb689c-ee00-498a-8840-fe330e55de23",
   "metadata": {},
   "outputs": [],
   "source": [
    "!jupyter lab"
   ]
  },
  {
   "cell_type": "code",
   "execution_count": 13,
   "id": "54079686-565f-41e1-a367-cf5cb81cc4a9",
   "metadata": {},
   "outputs": [
    {
     "name": "stdout",
     "output_type": "stream",
     "text": [
      "tables obj?: <docx.table.Table object at 0x0000024A4E930940>\n",
      "type: <class 'docx.table.Table'>\n"
     ]
    }
   ],
   "source": [
    "from docx import Document\n",
    "import os \n",
    "parent_path = r\"C:\\Users\\miyar\\OneDrive\\デスクトップ\\四年\\文献演習\"\n",
    "fname = r\"test_Timescales of landscape response to divide migration\" + \".docx\"\n",
    "fpath = os.path.join(parent_path, fname)\n",
    "docxfile = Document(fpath)\n",
    "tables = docxfile.tables[0]\n",
    "print(\"tables obj?: {}\\ntype: {}\".format(tables, type(tables)))\n",
    "# dir(tables[0])\n",
    "# columns = tables[0].columns\n",
    "# print(\"columns obj?: {}\\ntype: {}\".format(columns, type(columns)))\n",
    "# # cells = tables[0].column_cells()\n",
    "# # print(\"cells obj?: {}\\ntype: {}\".format(cells, type(cells)))\n",
    "# direction = tables[0].table_direction\n",
    "# print(\"direction?: {}\\ntype: {}\".format(direction, type(direction)))\n",
    "# for column in tables.columns:\n",
    "#         column_text = []\n",
    "#         for cell in column.cells:\n",
    "#             text = cell.text\n",
    "#             print(text)\n",
    "\n",
    "row = tables.rows[4]\n",
    "cell = row.cells[0]\n",
    "para = cell.paragraphs[0]\n",
    "for run in para.runs:\n",
    "    if run.text:\n",
    "        run.bold = True\n",
    "        \n",
    "docxfile.save(fpath)\n",
    "# text = cell.text\n",
    "# print(\"text: \\n{}\".format(text))\n",
    "# print(\"dir cell: {}\".format(dir(cell)))\n",
    "# cells = tables.column_cells(1)\n",
    "# cells[1].text"
   ]
  },
  {
   "cell_type": "code",
   "execution_count": 47,
   "id": "2cfe5978-5fb4-42a4-9f87-8756f851eb21",
   "metadata": {},
   "outputs": [],
   "source": [
    "import chromedriver_binary \n",
    "from selenium import webdriver\n",
    "from selenium.webdriver.chrome.options import Options\n",
    "from selenium.webdriver.common.keys import Keys\n",
    "import time\n",
    "from threading import Lock\n",
    "import time\n",
    "options = Options()\n",
    "options.add_argument('--disable-gpu')\n",
    "options.add_argument('--disable-extensions')\n",
    "options.add_argument('--proxy-server=\"direct://\"')\n",
    "options.add_argument('--proxy-bypass-list=*')\n",
    "options.add_argument('--start-maximized')\n",
    "lock = Lock()\n",
    "browser = webdriver.Chrome()\n",
    "url = 'https://www.deepl.com/ja/translator'\n",
    "browser.get(url)\n",
    "# deepleにアクセスするまでしばらく待つ\n",
    "time.sleep(1)\n",
    "stextarea = browser.find_element_by_css_selector(\n",
    "            '.lmt__textarea.lmt__source_textarea.lmt__textarea_base_style')\n",
    "ttextarea = browser.find_element_by_css_selector(\n",
    "    '.lmt__textarea.lmt__target_textarea.lmt__textarea_base_style')\n",
    "\n",
    "lock.acquire()\n",
    "stextarea.send_keys(text)\n",
    "lock.release()\n",
    "\n",
    "translated_text = ''\n",
    "\n",
    "lock.acquire()\n",
    "while not translated_text:\n",
    "    time.sleep(2)\n",
    "    translated_text = ttextarea.get_property('value')\n",
    "#     translated_texts[i] = translated_text\n",
    "# ここに翻訳結果が出力されたら成功（途中経過をjupyter notebookで確認する場合はコメントイン）\n",
    "#print(translated_text)    \n",
    "lock.release()\n",
    "\n",
    "# sourse_textareaをクリアする\n",
    "time.sleep(2)\n",
    "stextarea.send_keys(Keys.CONTROL, \"a\")\n",
    "stextarea.send_keys(Keys.BACKSPACE)"
   ]
  },
  {
   "cell_type": "code",
   "execution_count": 48,
   "id": "13034a34-a22b-4748-8a53-df4d0a047bac",
   "metadata": {},
   "outputs": [
    {
     "data": {
      "text/plain": [
       "'河川の侵食は水と土砂のフラックスによって支配されており、長期的な景観の進化における分水嶺の移動と排水の捕捉の重要性は古くから認識されている[e.g.,Gilbert, 1877;Davis, 1903;Glock, 1931;Bishop, 1995]。それにもかかわらず、岩石の隆起速度や気候条件の時空間的なパターンを復元することを目的とした現代の地形分析では、一般的に分水嶺の移動や排水の捕捉はほとんど複雑ではないと明示的または暗黙的に想定されてきた。この概念的枠組みは、排水ネットワークは強い擾乱を受けない限り、すぐに不変のパターンに安定するという、一世代前の景観進化モデルによって強化された[Tucker and Hancock, 2010]。分水嶺が安定しているか、河道プロファイルの応答のタイムスケールと比較してゆっくりと移動している場合、河道プロファイルの形態の解釈における主な課題は、河道斜面に対するテクトニック、気候、および岩石学的なコントロールを定量化し、これらの要因の空間的および時間的な変動を区別する必要があることに起因する[例えば、Wobusら、2006; Kirby and Whipple、2012; Whittaker、2012; Lague、2014によるレビューを参照]。岩石の特性と気候が最小限の空間的変動を示す場合、多くの研究が、岩石の隆起速度の空間的・時間的パターンがどのように景観形態、特に河川の縦断形態に現れるかについての洞察を深めることに貢献してきた[e.g. Kirby and Whipple 2001; Whittaker 2012; Lague 2014]。Kirby and Whipple, 2001, 2012; Lavé and Avouac, 2001; Duvall et al., 2004; Clark et al., 2005; Craddock et al., 2007; Harkins et al., 2007; Whittaker et al., 2007; Hilley and Arrowsmith, 2008; Cyr et al., 2010; Attal et al., 2011; Kirby and Ouimet, 2011; Miller et al., 2012; Whittaker, 2012; Miller et al., 2013]. これらの研究では、分水嶺の移動の可能性を考慮していないため、基本的には、大規模な捕獲イベントは十分にまれであり、分水嶺の緩やかな移動は十分に遅いため、河川プロファイルは排水域の変化に対して平衡形態を維持できると仮定しているが、これは未検証の仮説である。'"
      ]
     },
     "execution_count": 48,
     "metadata": {},
     "output_type": "execute_result"
    }
   ],
   "source": [
    "translated_text"
   ]
  },
  {
   "cell_type": "code",
   "execution_count": 49,
   "id": "d9270d5b-1f60-465f-8bce-fc56fae87b5d",
   "metadata": {},
   "outputs": [],
   "source": [
    "cell_1 = row.cells[1]\n",
    "cell_1.text = translated_text\n"
   ]
  },
  {
   "cell_type": "code",
   "execution_count": 50,
   "id": "221282f8-b25a-4fc5-83b1-a9689d8ab930",
   "metadata": {},
   "outputs": [],
   "source": [
    "fname = r\"1_test_Timescales of landscape response to divide migration\" + \".docx\"\n",
    "fpath = os.path.join(parent_path, fname)\n",
    "docxfile.save(fpath)"
   ]
  },
  {
   "cell_type": "code",
   "execution_count": 51,
   "id": "9735e3df-c705-4e87-b8eb-72b3f0340f70",
   "metadata": {},
   "outputs": [],
   "source": [
    "import concurrent"
   ]
  },
  {
   "attachments": {},
   "cell_type": "markdown",
   "id": "a08fbbef-e948-4417-9ba5-8d919ee1856d",
   "metadata": {},
   "source": [
    "# import automatic_translation.py"
   ]
  },
  {
   "cell_type": "code",
   "execution_count": 1,
   "id": "78d0b58c-1a89-43b0-91e6-f4576face337",
   "metadata": {},
   "outputs": [],
   "source": [
    "import automatic_translation as at\n",
    "kwargs = {\"Fpath\": r\"C:\\Users\\miyar\\OneDrive\\デスクトップ\\四年\\文献演習\",\n",
    "          \"Fname\": r\"test_Timescales of landscape response to divide migration\",\n",
    "          \"max_worker\": 1}\n",
    "\n",
    "sentenses = at.sentense_from_docx(**kwargs)\n"
   ]
  },
  {
   "cell_type": "code",
   "execution_count": null,
   "id": "470a33c7-c7fb-43c3-830b-c3f71c012042",
   "metadata": {},
   "outputs": [],
   "source": [
    "import math \n",
    "max_worker = kwargs['max_worker']\n",
    "n = math.ceil(len(sentenses)/max_worker)\n",
    "split_sentenses = [sentenses[i:i+n] for i in range(0, len(sentenses), n)]\n",
    "split_sentenses"
   ]
  },
  {
   "cell_type": "code",
   "execution_count": 4,
   "id": "f3c75685-59ae-480b-8b78-11c400e61b27",
   "metadata": {},
   "outputs": [
    {
     "name": "stdout",
     "output_type": "stream",
     "text": [
      "len(sample_sentense): 3\n",
      "1\n"
     ]
    }
   ],
   "source": [
    "sample_sentense = sentenses[:3]\n",
    "print(\"len(sample_sentense): {}\".format(len(sample_sentense)))\n",
    "max_worker = kwargs['max_worker']\n",
    "split_sentenses = at.split_sentenses(max_worker, sentenses=sample_sentense)\n",
    "print(len(split_sentenses))"
   ]
  },
  {
   "cell_type": "code",
   "execution_count": null,
   "id": "88598b8d-de30-4ba0-9bad-27f9210d20f1",
   "metadata": {},
   "outputs": [],
   "source": [
    "sample_sentense"
   ]
  },
  {
   "cell_type": "code",
   "execution_count": null,
   "id": "4483b3bf-8af1-47a2-9944-152ef8bc4134",
   "metadata": {},
   "outputs": [],
   "source": [
    "translated_texts = at.translation_deepl(sourse_texts=sample_sentense)"
   ]
  },
  {
   "cell_type": "code",
   "execution_count": null,
   "id": "33709b2f-ad9b-4b71-aa8c-c6082ee3bc16",
   "metadata": {},
   "outputs": [],
   "source": [
    "%%time\n",
    "# sample_sentense = sentenses[:30]\n",
    "translated_texts = at.run_multiThread(sentenses=sample_sentense, **kwargs)"
   ]
  },
  {
   "cell_type": "code",
   "execution_count": null,
   "id": "98e34017-e1ad-4eb9-bd33-6e9dbe3329cc",
   "metadata": {},
   "outputs": [],
   "source": [
    "print(\"len(translated_texts) {}\".format(len(translated_texts)))\n",
    "print(translated_texts)\n",
    "# at.sentense_to_docx(translated_texts, **kwargs)"
   ]
  },
  {
   "cell_type": "code",
   "execution_count": 8,
   "id": "ce56b063-c8d8-4207-8d30-6ff92f9079c3",
   "metadata": {},
   "outputs": [
    {
     "data": {
      "text/plain": [
       "NoneType"
      ]
     },
     "execution_count": 8,
     "metadata": {},
     "output_type": "execute_result"
    }
   ],
   "source": [
    "import re\n",
    "cant = 'これは、地形の勾配や深さが増すにつれて浸食速度が増加するためであり（Ahnert, 1970; DiBiase et al. 時間的に不変な形態としての定常状態または平衡ランドスケープの概念は、地形輸送法則の開発、パラメータ化、検証（Dietrich et al.2003; Kirkby, 1971）や、平衡形態からの逸脱に基づく過渡的なランドスケープの解釈（Kirby and Whipple, 2012; Tucker and Whipple, 2002; Whipple and Tucker, 1999）において中心的な役割を果たしてきた。平衡状態に到達する可能性は、境界条件の変化に対するランドスケープの応答時間に依存する（Howard, 1982; Whipple, 2001）。地殻変動や気候変動の擾乱後に定常状態に達するのに必要な時間は、一般的に、個々の流域が浸食と岩石の隆起の割合が等しくなるように河川の急勾配を調整する時間と同じであり、多くのランドスケープでは数百万年のオーダーであると考えられている（Pazzaglia, 2003; Whipple, 2001; Whipple and Tucker, 1999）。 '\n",
    "can = re.search(\"\\[...\\]\", cant)\n",
    "type(can)"
   ]
  },
  {
   "cell_type": "code",
   "execution_count": 8,
   "id": "1dec9e13-9f96-46ae-a494-8485a34aa770",
   "metadata": {},
   "outputs": [
    {
     "name": "stdout",
     "output_type": "stream",
     "text": [
      "3\n",
      "3\n"
     ]
    }
   ],
   "source": [
    "at.sentense_to_docx(sample_sentense, translated_texts, **kwargs)\n",
    "print(len(sample_sentense))\n",
    "print(len(translated_texts))"
   ]
  },
  {
   "cell_type": "code",
   "execution_count": 10,
   "id": "23457c0e-777d-4384-b7bd-c0c409b43057",
   "metadata": {},
   "outputs": [
    {
     "data": {
      "text/plain": [
       "[[0, 1, 2, 3, 4], [5, 6, 7, 8, 9], [10, 11, 12]]"
      ]
     },
     "execution_count": 10,
     "metadata": {},
     "output_type": "execute_result"
    }
   ],
   "source": [
    "import math \n",
    "l = [i for i in range(13)]\n",
    "n = math.ceil(len(l)/3)\n",
    "split = [l[i:i+n] for i in range(0, len(l), n)]\n",
    "split"
   ]
  },
  {
   "cell_type": "code",
   "execution_count": 11,
   "id": "193de234-eeec-4815-a4c3-5e090e7b8bda",
   "metadata": {},
   "outputs": [
    {
     "data": {
      "text/plain": [
       "[10, 11, 12]"
      ]
     },
     "execution_count": 11,
     "metadata": {},
     "output_type": "execute_result"
    }
   ],
   "source": [
    "l[10:15]"
   ]
  },
  {
   "cell_type": "code",
   "execution_count": 4,
   "id": "76f3e1ce-dedd-45d7-a8c6-0c54f9913b50",
   "metadata": {},
   "outputs": [
    {
     "data": {
      "text/plain": [
       "re.Match"
      ]
     },
     "execution_count": 4,
     "metadata": {},
     "output_type": "execute_result"
    }
   ],
   "source": [
    "import re\n",
    "s = \"1abstract\"\n",
    "s_m = re.match(\"\\d\", s)\n",
    "type(s_m)"
   ]
  },
  {
   "cell_type": "code",
   "execution_count": 6,
   "id": "bbf45d3f-2691-4090-b5e4-0595810d1871",
   "metadata": {},
   "outputs": [
    {
     "data": {
      "text/plain": [
       "True"
      ]
     },
     "execution_count": 6,
     "metadata": {},
     "output_type": "execute_result"
    }
   ],
   "source": [
    "type(s_m) is re.Match"
   ]
  },
  {
   "attachments": {},
   "cell_type": "markdown",
   "id": "4028583c-69a2-4b43-a0aa-e84c02869113",
   "metadata": {},
   "source": [
    "## 空白文字削除"
   ]
  },
  {
   "cell_type": "code",
   "execution_count": 5,
   "id": "a074ec27-b722-48d2-b7f2-440357d89f78",
   "metadata": {},
   "outputs": [
    {
     "name": "stdout",
     "output_type": "stream",
     "text": [
      "Total sensentces in this articl = 1\n",
      "Total sensentces in this articl = 61\n"
     ]
    }
   ],
   "source": [
    "import v3_automatic_translation as at\n",
    "word_dict = {\n",
    "            \"ニックスゾーン\": \"ニックゾーン\",\n",
    "            }\n",
    "\n",
    "kwargs = {\"Fpath\": r\"E:\\研究関連\\文献演習\", # 要約対象のwordファイルが格納されているディレクトリ\n",
    "          \"Fname\": r\"4(根幹モデル).Developing and exploring a theory for the.docx\", # wordファイル名（拡張子込みで指定する）\n",
    "          \"max_worker\": 4, # 同時実行スレッド数。各PC事に最大値が違うので要確認。\n",
    "          \"replace_dict\" : word_dict,# 翻訳後に専門用語を正しく置換するための辞書(上記の辞書オブジェクト)\n",
    "          \"japaneseFont\" : \"游明朝 (本文のフォント - 日本語)\", # 翻訳された日本語のフォントを指定（詳しいフォント名はwordを参照）\n",
    "         } \n",
    "transltor = at.auto_translator(**kwargs)\n",
    "transltor.insert_pt = 0\n",
    "sentenses = transltor._sentence_from_docx()\n"
   ]
  },
  {
   "cell_type": "code",
   "execution_count": 6,
   "id": "8b49e68f-5369-4fe9-b356-b8571faeb40a",
   "metadata": {},
   "outputs": [],
   "source": [
    "for i in range(len(sentenses)):\n",
    "    text = sentenses[i] \n",
    "    if text == \"\":\n",
    "        print(\"i={} null!!!!!!!!!!!!!!!!!\\n\\n\".format(i))\n",
    "    # else:\n",
    "    #     print(\"i={} {}\".format(i, text))"
   ]
  },
  {
   "cell_type": "code",
   "execution_count": null,
   "id": "3538b15e-bd1f-4e3b-9cde-906b0471ecd6",
   "metadata": {},
   "outputs": [],
   "source": [
    "sentenses"
   ]
  },
  {
   "cell_type": "code",
   "execution_count": 4,
   "id": "4acc4c81-1ee2-4188-b49d-f2a1e1b36f10",
   "metadata": {},
   "outputs": [
    {
     "data": {
      "text/plain": [
       "['The calculation of the radius of curvature along two stream segments in a raster grid with D8 flow routing presents a challenge, as the angle between segments is discretized; the two segments may form a straight line, in which case the angle is equal to 0◦ , form a 45◦ angle, or form a 90◦ angle. In order to reduce the impact of this discretization, we assume that each of these three cases represents a continuum of possible radii of curvature. Cases of two straight segments are treated as if the actual angle between them ranges anywhere between +22.5 and −22.5◦ . If one takes the average among these possible angles, the resulting inverse radius of curvature is 0.23/dx, where dx is the cell size in the flow direction. Similarly, we assume that a 45◦ bend represents a continuum of possible angles between the two segments ranging from 22.5–63.5◦ , resulting in an inverse radius of curvature of 0.67/dx. Following the same principle for a 90◦ bend gives a mean inverse radius of curvature of 1.37/dx (see the Supplement).']"
      ]
     },
     "execution_count": 4,
     "metadata": {},
     "output_type": "execute_result"
    }
   ],
   "source": [
    "transltor.eg_sentence"
   ]
  },
  {
   "cell_type": "code",
   "execution_count": 9,
   "id": "5860f2d6-9ab1-44e0-b1f5-e6544244a860",
   "metadata": {},
   "outputs": [
    {
     "name": "stdout",
     "output_type": "stream",
     "text": [
      "地形学の主要な目的の一つは、地形が地殻変動、気候変動、侵食の履歴をどのように記録しているかを理解することである。この枠組みの中で、地形は一般的に定常状態と過渡状態に分類される[Kirby and Whipple, 2012]。定常的な地形とは、気候、岩石の強度、侵食プロセスによって決まる侵食速度と、隆起が丘陵斜面の低下と河川の侵食によって釣り合うように地形が調整されたものである。対照的に、過渡的な地形は、テクトニクスまたは侵食の条件に突然または持続的な変化が生じた場合に存在し、侵食がテクトニクスと釣り合わず、地形が徐々に調整される [Whipple and Tucker, 1999; Whipple, 2001; Tucker and Whipple, 2002; Kirby and Whipple, 2012; Whittaker, 2012]。定常的な地形では、侵食、隆起、侵食速度の間のバランスによって、傾斜、曲率、またはレリーフなどの地形指標が、気候、テクトニクス、および岩石の強度などの現在の環境条件と相関していることがわかる。過渡的な地形では、地形は徐々に調整され、地形指標は現在の環境条件に適応している地域と過去の環境条件に適応している「残存地形」との対比を明らかにすることができる。\n"
     ]
    }
   ],
   "source": [
    "from docx import Document\n",
    "from docx.oxml.ns import qn\n",
    "import os \n",
    "parent_path = r\"E:\\研究関連\\文献リスト\\knickpoint\"\n",
    "fname = r\"デバック用\" + \".docx\"\n",
    "fpath = os.path.join(parent_path, fname)\n",
    "docxfile = Document(fpath)\n",
    "tables = docxfile.tables[0]\n",
    "o_cells = tables.column_cells(1)\n",
    "runs = o_cells[1].paragraphs[0].runs\n",
    "for run in runs:\n",
    "    run.font.name = \"游明朝 (本文のフォント - 日本語)\"\n",
    "    run._element.rPr.rFonts.set(qn('w:eastAsia'), run.font.name)\n",
    "    print(run.text)\n",
    "docxfile.save(fpath)\n",
    "# print(o_cells[0].paragraphs[0].style.name)"
   ]
  },
  {
   "cell_type": "code",
   "execution_count": null,
   "id": "d6de55a4-f356-4e66-81dc-0d1288308141",
   "metadata": {},
   "outputs": [],
   "source": [
    "from docx import Document\n",
    "from docx.oxml.ns import qn\n",
    "import os \n",
    "parent_path = r\"C:\\Users\\miyar\\OneDrive\\デスクトップ\\研究関連\"\n",
    "fname = r\"sample.docx\"\n",
    "fpath = os.path.join(parent_path, fname)\n",
    "docxfile = Document(fpath)\n",
    "tables = docxfile.tables[0]\n",
    "o_cells = tables.column_cells(0)\n",
    "for cell in o_cells:\n",
    "    print(cell.text, \"\\n\", cell.text == \"\")"
   ]
  },
  {
   "attachments": {},
   "cell_type": "markdown",
   "id": "567d94b3-d623-4d36-8e7c-3a88d6999da5",
   "metadata": {},
   "source": [
    "# main"
   ]
  },
  {
   "attachments": {},
   "cell_type": "markdown",
   "id": "9d74f318-5501-4e3b-817e-f6dfca71a544",
   "metadata": {},
   "source": [
    "### 各セクションタイトル部分は先頭文字が数字になっているか確認＋woed内の各セルの末尾に余計な改行がないか確認"
   ]
  },
  {
   "attachments": {},
   "cell_type": "markdown",
   "id": "e88414b0-5540-497e-b026-55d38c8cfda3",
   "metadata": {},
   "source": [
    "### automatic_translation.pyファイルの最後にあるif__name__==\"__main__\"以降のファイル名等を変更後に以下のセルを実行してください。"
   ]
  },
  {
   "cell_type": "code",
   "execution_count": 1,
   "id": "225d3e0b-e221-40ca-8c1c-f10b99685907",
   "metadata": {},
   "outputs": [
    {
     "name": "stdout",
     "output_type": "stream",
     "text": [
      "Total sensentces in this articl = 43\n",
      "len(split_list): 5\n",
      "i=0\n",
      "split_list: ['Extracting governing equations from data is a central challenge in many diverse areas of science and engineering. Data are abundant whereas models often remain elusive, as in climate science, neuroscience, ecology, finance, and epidemiology, to name only a few examples. In this work, we combine sparsity-promoting techniques and machine learning with nonlinear dynamical systems to discover governing equations from noisy measurement data. The only assumption about the structure of the model is that there are only a few important terms that govern the dynamics, so that the equations are sparse in the space of possible functions; this assumption holds for many physical systems in an appropriate basis. In particular, we use sparse regression to determine the fewest terms in the dynamic governing equations required to accurately represent the data. This results in parsimonious models that balance accuracy with model complexity to avoid overfitting. We demonstrate the algorithm on a wide range of problems, from simple canonical systems, including linear and nonlinear oscillators and the chaotic Lorenz system, to the fluid vortex shedding behind an obstacle. The fluid example illustrates the ability of this method to discover the underlying dynamics of a system that took experts in the community nearly 30 years to resolve. We also show that this method generalizes to parameterized systems and systems that are time-varying or have external forcing.', 'Advances in machine learning (1) and data science (2) have promised a renaissance in the analysis and understanding of complex data, extracting patterns in vast multimodal data that are beyond the ability of humans to grasp. However, despite the rapid development of tools to understand static data based on statistical relationships, there has been slow progress in distilling physical models of dynamic processes from big data. This has limited the ability of data science models to extrapolate the dynamics beyond the attractor where they were sampled and constructed. An analogy may be drawn with the discoveries of Kepler and Newton. Kepler, equipped with the most extensive and accurate planetary data of the era, developed a data-driven model for planetary motion, resulting in his famous elliptic orbits. However, this was an attractor-based view of the world, and it did not explain the fundamental dynamic relationships that give rise to planetary orbits, or provide a model for how these bodies react when perturbed. Newton, in contrast, discovered a dynamic relationship between momentum and energy that described the underlying processes responsible for these elliptic orbits. This dynamic model may be generalized to predict behavior in regimes where no data were collected. Newton’s model has proven remarkably robust for engineering design, making it possible to land a spacecraft on the moon, which would not have been possible using Kepler’s model alone.', 'A seminal breakthrough by Bongard and Lipson (3) and Schmidt and Lipson (4) has resulted in a new approach to determine the underlying structure of a nonlinear dynamical system from data. This method uses symbolic regression [i.e., genetic programming (5)] to find nonlinear differential equations, and it balances complexity of the model, measured in the number of terms, with model accuracy. The resulting model identification realizes a long-sought goal of the physics and engineering communities to discover\\u3000dynamical systems from data. However, symbolic regression is expensive, does not scale well to large systems of interest, and may be prone to overfitting unless care is taken to explicitly balance model complexity with predictive power. In ref. 4, the Pareto front is used to find parsimonious models. There are other techniques that address various aspects of the dynamical system discovery problem. These include methods to discover governing equations from time-series data (6), equation-free modeling (7), empirical dynamic modeling (8, 9), modeling emergent behavior (10), and automated inference of dynamics (11–13); ref. 12 provides an excellent review', 'Sparse Identification of Nonlinear Dynamics (SINDy)', 'In this work, we reenvision the dynamical system discovery problem from the perspective of sparse regression (14–16) and compressed sensing (17–22). In particular, we leverage the fact that most physical systems have only a few relevant terms that define the dynamics, making the governing equations sparse in a high-dimensional nonlinear function space. The combination of sparsity methods in dynamical systems is quite recent (23–30). Here, we consider dynamical systems (31) of the form', '[1]', 'The vector x(t)∈ Rn denotes the state of a system at time t, and the function f(x(t) represents the dynamic constraints that define the equations of motion of the system, such as Newton’s second law. Later, the dynamics will be generalized to include parameterization, time dependence, and forcing', 'The key observation is that for many systems of interest, the function f consists of only a few terms, making it sparse in the space of possible functions. Recent advances in compressed sensing and sparse regression make this viewpoint of sparsity favorable, because it is now possible to determine which right-hand-side terms are nonzero without performing a combinatorially intractable bruteforce search. This guarantees that the sparse solution is found with high probability using convex methods that scale to large problems favorably with Moore’s law. The resulting sparse model identification inherently balances model complexity (i.e., sparsity of the righthand-side dynamics) with accuracy, avoiding overfitting the model to the data. Wang et al. (23) have used compressed sensing to identify nonlinear dynamics and predict catastrophes; here, we advocate using sparse regression to mitigate noise.', 'To determine the function f from data, we collect a time history of the state x(t) and either measure the derivative x’(t) or approximate it numerically from x(t). The data are sampled at several times t1, t2, ⋯, tm and arranged into two matrices:']\n",
      "i=1\n",
      "split_list: ['[1-1]', 'Next, we construct a library Θ(X) consisting of candidate nonlinear functions of the columns of X. For example, Θ(X) may consist of constant, polynomial, and trigonometric terms:', '[2]', 'Here, higher polynomials are denoted as XP2 ,XP3 , etc., where XP2 denotes the quadratic nonlinearities in the state x', '[2-2]', 'Each column of Θ(X) represents a candidate function for the right-hand side of Eq. 1. There is tremendous freedom in choosing the entries in this matrix of nonlinearities. Because we believe that only a few of these nonlinearities are active in each row of f, we may set up a sparse regression problem to determine the sparse vectors of coefficients Ξ= ½ ξ1 ξ2 ⋯ ξn  that determine which nonlinearities are active:', '[3]', 'This is illustrated in Fig. 1. Each column ξk of Ξ is a sparse vector of coefficients determining which terms are active in the righthand side for one of the row equations x_k =fk(x)in Eq. 1. Once Ξ has been determined, a model of each row of the governing equations may be constructed as follows', '[4]']\n",
      "i=2\n",
      "split_list: ['Note that Θ(xT) is a vector of symbolic functions of elements of x, as opposed to Θ(X), which is a data matrix. Thus,', '[5]', 'Each column of Eq. 3 requires a distinct optimization to find the sparse vector of coefficients ξk for the kth row equation. We may also normalize the columns of Θ(X), especially when entries of X are small, as discussed in the SI Appendix', 'For examples in this paper, the matrix Θ(X) has size m × p, where p is the number of candidate functions, and m  p because there are more data samples than functions; this is possible in a restricted basis, such as the polynomial basis in Eq. 2. In practice, it may be helpful to test many different function bases and use the sparsity and accuracy of the resulting model as a diagnostic tool to determine the correct basis to represent the dynamics in. In SI Appendix, Appendix B, two examples are explored where the sparse identification algorithm fails because the dynamics are not sparse in the chosen basis', 'Realistically, often only X is available, and X’ must be approximated numerically, as in all of the continuous-time examples below. Thus, X and X’ are contaminated with noise so Eq. 3 does not hold exactly. Instead', '[6]', 'where Z is modeled as a matrix of independent identically distributed Gaussian entries with zero mean, and noise magnitude η. Thus, we seek a sparse solution to an overdetermined system with noise. The least absolute shrinkage and selection operator (LASSO) (14, 15) is an ℓ1-regularized regression that promotes sparsity and works well with this type of data. However, it may be computationally expensive for very large data sets. An alternative based on sequential thresholded least-squares is presented in Code 1 in the SI Appendix', 'Depending on the noise, it may be necessary to filter X and X’ before solving for Ξ. In many of the examples below, only the data X are available, and X’ are obtained by differentiation. To counteract differentiation error, we use the total variation regularization (32) to denoise the derivative (33). This works quite well when only state data X are available, as illustrated on the Lorenz system (SI Appendix, Fig. S7). Alternatively, the data X and X’ may be filtered, for example using the optimal hard threshold for singular values described in ref. 34. Insensitivity to noise is a critical feature of an algorithm that identifies dynamics from data (11–13).', 'Often, the physical system of interest may be naturally represented by a partial differential equation (PDE) in a few spatial variables. If data are collected from a numerical discretization or from experimental measurements on a spatial grid, then the state dimension n may be prohibitively large. For example, in fluid dynamics, even simple 2D and 3D flows may require tens of thousands up to billions of variables to represent the discretized system. The proposed method is ill-suited for a large state dimension n, because of the factorial growth of Θ in n and because each of the n row equations in Eq. 4 requires a separate optimization. Fortunately, many high-dimensional systems of interest evolve on a lowdimensional manifold or attractor that is well-approximated using a low-rank basis Ψ (35, 36). For example, if data X are collected for a high-dimensional system as in Eq. 2, it is possible to obtain a lowrank approximation using dimensionality reduction techniques, such as the proper orthogonal decomposition (POD) (35, 37).']\n",
      "i=3\n",
      "split_list: ['The proposed sparse identification of nonlinear dynamics (SINDy) method depends on the choice of measurement variables, data quality, and the sparsifying function basis. There is no single method that will solve all problems in nonlinear system identification, but this method highlights the importance of these underlying choices and can help guide the analysis. The challenges of choosing measurement variables and a sparsifying function basis are explored in SI Appendix, section 4.5 and Appendixes A and B', 'Simply put, we need the right coordinates and function basis to yield sparse dynamics; the feasibility and flexibility of these requirements is discussed in Discussion and SI Appendix section 4.5 and Appendixes A and B. However, it may be difficult to know the correct variables a priori. Fortunately, time-delay coordinates may provide useful variables from a time series (9, 12, 38). The ability to reconstruct sparse attractor dynamics using timedelay coordinates is demonstrated in SI Appendix, section 4.5 using a single variable of the Lorenz system.', 'The choice of coordinates and the sparsifying basis are intimately related, and the best choice is not always clear. However, basic knowledge of the physics (e.g., Navier–Stokes equations have quadratic nonlinearities, and the Schrödinger equation has jxj 2 x terms) may provide a reasonable choice of nonlinear functions and measurement coordinates. In fact, the sparsity and accuracy of the proposed sparse identified model may provide valuable diagnostic information about the correct measurement coordinates and basis in which to represent the dynamics. Choosing the right coordinates to simplify dynamics has always been important, as exemplified by Lagrangian and Hamiltonian mechanics (39). There is still a need for experts to find and exploit symmetry in the system, and the proposed methods should be complemented by advanced algorithms in machine learning to extract useful features', 'Results', 'We demonstrate the algorithm on canonical systems*, ranging from linear and nonlinear oscillators (SI Appendix, section 4.1), to noisy measurements of the chaotic Lorenz system, to the unsteady fluid wake behind a cylinder, extending this method to nonlinear PDEs and high-dimensional data. Finally, we show that bifurcation parameters may be included in the models, recovering the parameterized logistic map and the Hopf normal form from noisy measurements. In each example, we explore the ability to identify the dynamics from state measurements alone, without access to derivatives', 'It is important to reiterate that the sparse identification method relies on a fortunate choice of coordinates and function basis that facilitate sparse representation of the dynamics. In SI Appendix, Appendix B, we explore the limitations of the method for examples where these assumptions break down: the Lorenz system transformed into nonlinear coordinates and the glycolytic oscillator model (11–13).', 'Chaotic Lorenz System', 'As a first example, consider a canonical model for chaotic dynamics, the Lorenz system (40):', '[7a]']\n",
      "i=4\n",
      "split_list: ['[7b]', '[7c]', 'Although these equations give rise to rich and chaotic dynamics that evolve on an attractor, there are only a few terms in the right-hand side of the equations. Fig. 1 shows a schematic of how data are collected for this example, and how sparse dynamics are identified in a space of possible right-hand-side functions using convex ℓ1 minimization.', 'For this example, data are collected for the Lorenz system, and stacked into two large data matrices X and X_, where each row of X is a snapshot of the state x in time, and each row of X’ is a snapshot of the time derivative of the state x_ in time. Here, the right-handside dynamics are identified in the space of polynomials Θ(X) in (x,y,z) up to fifth order, although other functions such as sin, cos, exp, or higher-order polynomials may be included:', '[7-7]', 'Each column of Θ(X) represents a candidate function for the righthand side of Eq. 1. Because only a few of these terms are active in each row of f, we solve the sparse regression problem in Eq. 3 to determine the sparse vectors of coefficients Ξ= ½ ξ1 ξ2 ⋯ ξn  that determine which terms are active in the dynamics. This is illustrated schematically in Fig. 1, where sparse vectors ξk are found to represent the derivative x_k as a linear combination of the fewest terms in Θ(X).', 'In the Lorenz example, the ability to capture dynamics on the attractor is more important than the ability to predict an individual trajectory, because chaos will quickly cause any small variations in initial conditions or model coefficients to diverge exponentially. As shown in Fig. 1, the sparse model accurately reproduces the attractor dynamics from chaotic trajectory measurements. The algorithm not only identifies the correct terms in the dynamics, but it accurately determines the coefficients to within .03% of the true values. We also explore the identification of the dynamics when only noisy state measurements are available (SI Appendix, Fig. S7). The correct dynamics are identified, and the attractor is preserved for surprisingly large noise values. In SI Appendix, section 4.5, we reconstruct the attractor dynamics in the Lorenz system using time-delay coordinates from a single measurement x(t).']\n",
      "\n",
      "\n",
      "\n"
     ]
    },
    {
     "name": "stderr",
     "output_type": "stream",
     "text": [
      "[WDM] - ====== WebDriver manager ======\n"
     ]
    },
    {
     "name": "stdout",
     "output_type": "stream",
     "text": [
      "\n",
      "2023-06-22 15:48:20,217 INFO ====== WebDriver manager ======\n",
      "\n"
     ]
    },
    {
     "name": "stderr",
     "output_type": "stream",
     "text": [
      "[WDM] - ====== WebDriver manager ======\n",
      "[WDM] - ====== WebDriver manager ======\n"
     ]
    },
    {
     "name": "stdout",
     "output_type": "stream",
     "text": [
      "2023-06-22 15:48:20,221 INFO ====== WebDriver manager ======\n"
     ]
    },
    {
     "name": "stderr",
     "output_type": "stream",
     "text": [
      "[WDM] - ====== WebDriver manager ======\n"
     ]
    },
    {
     "name": "stdout",
     "output_type": "stream",
     "text": [
      "2023-06-22 15:48:20,222 INFO ====== WebDriver manager ======\n",
      "2023-06-22 15:48:20,223 INFO ====== WebDriver manager ======\n"
     ]
    },
    {
     "name": "stderr",
     "output_type": "stream",
     "text": [
      "[WDM] - ====== WebDriver manager ======\n"
     ]
    },
    {
     "name": "stdout",
     "output_type": "stream",
     "text": [
      "2023-06-22 15:48:20,223 INFO ====== WebDriver manager ======\n"
     ]
    },
    {
     "name": "stderr",
     "output_type": "stream",
     "text": [
      "[WDM] - Current google-chrome version is 114.0.5735\n",
      "[WDM] - Current google-chrome version is 114.0.5735\n"
     ]
    },
    {
     "name": "stdout",
     "output_type": "stream",
     "text": [
      "2023-06-22 15:48:20,227 INFO Current google-chrome version is 114.0.5735\n",
      "2023-06-22 15:48:20,228 INFO Current google-chrome version is 114.0.5735\n"
     ]
    },
    {
     "name": "stderr",
     "output_type": "stream",
     "text": [
      "[WDM] - Current google-chrome version is 114.0.5735\n"
     ]
    },
    {
     "name": "stdout",
     "output_type": "stream",
     "text": [
      "2023-06-22 15:48:20,231 INFO Current google-chrome version is 114.0.5735\n"
     ]
    },
    {
     "name": "stderr",
     "output_type": "stream",
     "text": [
      "[WDM] - Get LATEST chromedriver version for 114.0.5735 google-chrome\n"
     ]
    },
    {
     "name": "stdout",
     "output_type": "stream",
     "text": [
      "2023-06-22 15:48:20,231 INFO Get LATEST chromedriver version for 114.0.5735 google-chrome\n"
     ]
    },
    {
     "name": "stderr",
     "output_type": "stream",
     "text": [
      "[WDM] - Current google-chrome version is 114.0.5735\n"
     ]
    },
    {
     "name": "stdout",
     "output_type": "stream",
     "text": [
      "2023-06-22 15:48:20,231 INFO Current google-chrome version is 114.0.5735\n"
     ]
    },
    {
     "name": "stderr",
     "output_type": "stream",
     "text": [
      "[WDM] - Get LATEST chromedriver version for 114.0.5735 google-chrome\n"
     ]
    },
    {
     "name": "stdout",
     "output_type": "stream",
     "text": [
      "2023-06-22 15:48:20,232 INFO Get LATEST chromedriver version for 114.0.5735 google-chrome\n"
     ]
    },
    {
     "name": "stderr",
     "output_type": "stream",
     "text": [
      "[WDM] - Current google-chrome version is 114.0.5735\n"
     ]
    },
    {
     "name": "stdout",
     "output_type": "stream",
     "text": [
      "2023-06-22 15:48:20,233 INFO Current google-chrome version is 114.0.5735\n"
     ]
    },
    {
     "name": "stderr",
     "output_type": "stream",
     "text": [
      "[WDM] - Get LATEST chromedriver version for 114.0.5735 google-chrome\n"
     ]
    },
    {
     "name": "stdout",
     "output_type": "stream",
     "text": [
      "2023-06-22 15:48:20,233 INFO Get LATEST chromedriver version for 114.0.5735 google-chrome\n"
     ]
    },
    {
     "name": "stderr",
     "output_type": "stream",
     "text": [
      "[WDM] - Get LATEST chromedriver version for 114.0.5735 google-chrome\n"
     ]
    },
    {
     "name": "stdout",
     "output_type": "stream",
     "text": [
      "2023-06-22 15:48:20,235 INFO Get LATEST chromedriver version for 114.0.5735 google-chrome\n"
     ]
    },
    {
     "name": "stderr",
     "output_type": "stream",
     "text": [
      "[WDM] - Get LATEST chromedriver version for 114.0.5735 google-chrome\n"
     ]
    },
    {
     "name": "stdout",
     "output_type": "stream",
     "text": [
      "2023-06-22 15:48:20,238 INFO Get LATEST chromedriver version for 114.0.5735 google-chrome\n"
     ]
    },
    {
     "name": "stderr",
     "output_type": "stream",
     "text": [
      "[WDM] - There is no [win32] chromedriver for browser 114.0.5735 in cache\n"
     ]
    },
    {
     "name": "stdout",
     "output_type": "stream",
     "text": [
      "2023-06-22 15:48:20,511 INFO There is no [win32] chromedriver for browser 114.0.5735 in cache\n"
     ]
    },
    {
     "name": "stderr",
     "output_type": "stream",
     "text": [
      "[WDM] - There is no [win32] chromedriver for browser 114.0.5735 in cache\n",
      "[WDM] - There is no [win32] chromedriver for browser 114.0.5735 in cache\n"
     ]
    },
    {
     "name": "stdout",
     "output_type": "stream",
     "text": [
      "2023-06-22 15:48:20,511 INFO There is no [win32] chromedriver for browser 114.0.5735 in cache\n",
      "2023-06-22 15:48:20,511 INFO There is no [win32] chromedriver for browser 114.0.5735 in cache\n"
     ]
    },
    {
     "name": "stderr",
     "output_type": "stream",
     "text": [
      "[WDM] - There is no [win32] chromedriver for browser 114.0.5735 in cache\n"
     ]
    },
    {
     "name": "stdout",
     "output_type": "stream",
     "text": [
      "2023-06-22 15:48:20,512 INFO There is no [win32] chromedriver for browser 114.0.5735 in cache\n"
     ]
    },
    {
     "name": "stderr",
     "output_type": "stream",
     "text": [
      "[WDM] - About to download new driver from https://chromedriver.storage.googleapis.com/114.0.5735.90/chromedriver_win32.zip\n"
     ]
    },
    {
     "name": "stdout",
     "output_type": "stream",
     "text": [
      "2023-06-22 15:48:20,512 INFO About to download new driver from https://chromedriver.storage.googleapis.com/114.0.5735.90/chromedriver_win32.zip\n"
     ]
    },
    {
     "name": "stderr",
     "output_type": "stream",
     "text": [
      "[WDM] - About to download new driver from https://chromedriver.storage.googleapis.com/114.0.5735.90/chromedriver_win32.zip\n"
     ]
    },
    {
     "name": "stdout",
     "output_type": "stream",
     "text": [
      "2023-06-22 15:48:20,514 INFO About to download new driver from https://chromedriver.storage.googleapis.com/114.0.5735.90/chromedriver_win32.zip\n"
     ]
    },
    {
     "name": "stderr",
     "output_type": "stream",
     "text": [
      "[WDM] - About to download new driver from https://chromedriver.storage.googleapis.com/114.0.5735.90/chromedriver_win32.zip\n"
     ]
    },
    {
     "name": "stdout",
     "output_type": "stream",
     "text": [
      "2023-06-22 15:48:20,517 INFO About to download new driver from https://chromedriver.storage.googleapis.com/114.0.5735.90/chromedriver_win32.zip\n"
     ]
    },
    {
     "name": "stderr",
     "output_type": "stream",
     "text": [
      "[WDM] - There is no [win32] chromedriver for browser 114.0.5735 in cache\n"
     ]
    },
    {
     "name": "stdout",
     "output_type": "stream",
     "text": [
      "2023-06-22 15:48:20,518 INFO There is no [win32] chromedriver for browser 114.0.5735 in cache\n"
     ]
    },
    {
     "name": "stderr",
     "output_type": "stream",
     "text": [
      "[WDM] - About to download new driver from https://chromedriver.storage.googleapis.com/114.0.5735.90/chromedriver_win32.zip\n"
     ]
    },
    {
     "name": "stdout",
     "output_type": "stream",
     "text": [
      "2023-06-22 15:48:20,519 INFO About to download new driver from https://chromedriver.storage.googleapis.com/114.0.5735.90/chromedriver_win32.zip\n"
     ]
    },
    {
     "name": "stderr",
     "output_type": "stream",
     "text": [
      "[WDM] - About to download new driver from https://chromedriver.storage.googleapis.com/114.0.5735.90/chromedriver_win32.zip\n"
     ]
    },
    {
     "name": "stdout",
     "output_type": "stream",
     "text": [
      "2023-06-22 15:48:20,528 INFO About to download new driver from https://chromedriver.storage.googleapis.com/114.0.5735.90/chromedriver_win32.zip\n"
     ]
    },
    {
     "name": "stderr",
     "output_type": "stream",
     "text": [
      "[WDM] - Driver has been saved in cache [C:\\Users\\students\\.wdm\\drivers\\chromedriver\\win32\\114.0.5735.90]\n"
     ]
    },
    {
     "name": "stdout",
     "output_type": "stream",
     "text": [
      "2023-06-22 15:48:27,531 INFO Driver has been saved in cache [C:\\Users\\students\\.wdm\\drivers\\chromedriver\\win32\\114.0.5735.90]\n",
      "i=0\n",
      ": Note that Θ(xT) is a vector of symbolic functions of elements of x, as opposed to Θ(X), which is a data matrix. Thus,\n",
      "\n"
     ]
    },
    {
     "name": "stderr",
     "output_type": "stream",
     "text": [
      "[WDM] - Driver has been saved in cache [C:\\Users\\students\\.wdm\\drivers\\chromedriver\\win32\\114.0.5735.90]\n"
     ]
    },
    {
     "name": "stdout",
     "output_type": "stream",
     "text": [
      "2023-06-22 15:48:37,072 INFO Driver has been saved in cache [C:\\Users\\students\\.wdm\\drivers\\chromedriver\\win32\\114.0.5735.90]\n"
     ]
    },
    {
     "name": "stderr",
     "output_type": "stream",
     "text": [
      "[WDM] - Driver has been saved in cache [C:\\Users\\students\\.wdm\\drivers\\chromedriver\\win32\\114.0.5735.90]\n"
     ]
    },
    {
     "name": "stdout",
     "output_type": "stream",
     "text": [
      "translated_text: \n",
      "\n",
      " len: 0\n",
      " \n",
      "\n",
      "try again\n",
      "\n",
      "2023-06-22 15:48:38,683 INFO Driver has been saved in cache [C:\\Users\\students\\.wdm\\drivers\\chromedriver\\win32\\114.0.5735.90]\n"
     ]
    },
    {
     "name": "stderr",
     "output_type": "stream",
     "text": [
      "[WDM] - Driver has been saved in cache [C:\\Users\\students\\.wdm\\drivers\\chromedriver\\win32\\114.0.5735.90]\n"
     ]
    },
    {
     "name": "stdout",
     "output_type": "stream",
     "text": [
      "2023-06-22 15:48:38,897 INFO Driver has been saved in cache [C:\\Users\\students\\.wdm\\drivers\\chromedriver\\win32\\114.0.5735.90]\n"
     ]
    },
    {
     "name": "stderr",
     "output_type": "stream",
     "text": [
      "[WDM] - Driver has been saved in cache [C:\\Users\\students\\.wdm\\drivers\\chromedriver\\win32\\114.0.5735.90]\n"
     ]
    },
    {
     "name": "stdout",
     "output_type": "stream",
     "text": [
      "2023-06-22 15:48:40,138 INFO Driver has been saved in cache [C:\\Users\\students\\.wdm\\drivers\\chromedriver\\win32\\114.0.5735.90]\n",
      "translated_text: \n",
      "Θ(xT)は、データ行列であるΘ(X)とは対照的に、xの要素の記号関数のベクトルであることに注意。したがって\n",
      " len: 54\n",
      " \n",
      "i=0\n",
      ": Extracting governing equations from data is a central challenge in many diverse areas of science and engineering. Data are abundant whereas models often remain elusive, as in climate science, neuroscience, ecology, finance, and epidemiology, to name only a few examples. In this work, we combine sparsity-promoting techniques and machine learning with nonlinear dynamical systems to discover governing equations from noisy measurement data. The only assumption about the structure of the model is that there are only a few important terms that govern the dynamics, so that the equations are sparse in the space of possible functions; this assumption holds for many physical systems in an appropriate basis. In particular, we use sparse regression to determine the fewest terms in the dynamic governing equations required to accurately represent the data. This results in parsimonious models that balance accuracy with model complexity to avoid overfitting. We demonstrate the algorithm on a wide range of problems, from simple canonical systems, including linear and nonlinear oscillators and the chaotic Lorenz system, to the fluid vortex shedding behind an obstacle. The fluid example illustrates the ability of this method to discover the underlying dynamics of a system that took experts in the community nearly 30 years to resolve. We also show that this method generalizes to parameterized systems and systems that are time-varying or have external forcing.\n",
      "\n",
      "i=1\n",
      ": [5]\n",
      "\n",
      "translated_text: \n",
      "\n",
      " len: 0\n",
      " \n",
      "\n",
      "try again\n",
      "\n",
      "i=0\n",
      ": [1-1]\n",
      "\n",
      "i=0\n",
      ": The proposed sparse identification of nonlinear dynamics (SINDy) method depends on the choice of measurement variables, data quality, and the sparsifying function basis. There is no single method that will solve all problems in nonlinear system identification, but this method highlights the importance of these underlying choices and can help guide the analysis. The challenges of choosing measurement variables and a sparsifying function basis are explored in SI Appendix, section 4.5 and Appendixes A and B\n",
      "\n",
      "i=0\n",
      ": [7b]\n",
      "\n",
      "translated_text: \n",
      "データから支配方程式を抽出することは、科学や工学の多くの多様な分野における中心的な課題である。気候科学、神経科学、生態学、金融、疫学などでは、データが豊富であるのに対して、モデルがつかみにくいことが多い。この研究では、ノイズの多い測定データから支配方程式を発見するために、スパース性を促進する技術と機械学習を非線形力学系と組み合わせる。モデルの構造に関する唯一の仮定は、ダイナミクスを支配する重要な項が数個しか存在しないことであり、そのため方程式は可能な関数の空間においてスパースである。特に、スパース回帰を使用して、データを正確に表現するのに必要な動的支配方程式の最小項を決定する。その結果、オーバーフィッティングを避けるために、精度とモデルの複雑さのバランスがとれた、簡潔なモデルが得られる。線形・非線形振動子やカオス・ローレンツ系を含む単純な正準系から、障害物の背後にある流体の渦流出まで、幅広い問題に対してアルゴリズムを実証する。流体の例では、この方法が、専門家が30年近くかけて解決したシステムの根本的なダイナミクスを発見する能力を示している。また、この方法が、パラメータ化された系や、時変する系、外部強制を持つ系にも一般化することを示す。\n",
      " len: 525\n",
      " \n",
      "translated_text: \n",
      "[5]\n",
      " len: 3\n",
      " \n",
      "i=1\n",
      ": Advances in machine learning (1) and data science (2) have promised a renaissance in the analysis and understanding of complex data, extracting patterns in vast multimodal data that are beyond the ability of humans to grasp. However, despite the rapid development of tools to understand static data based on statistical relationships, there has been slow progress in distilling physical models of dynamic processes from big data. This has limited the ability of data science models to extrapolate the dynamics beyond the attractor where they were sampled and constructed. An analogy may be drawn with the discoveries of Kepler and Newton. Kepler, equipped with the most extensive and accurate planetary data of the era, developed a data-driven model for planetary motion, resulting in his famous elliptic orbits. However, this was an attractor-based view of the world, and it did not explain the fundamental dynamic relationships that give rise to planetary orbits, or provide a model for how these bodies react when perturbed. Newton, in contrast, discovered a dynamic relationship between momentum and energy that described the underlying processes responsible for these elliptic orbits. This dynamic model may be generalized to predict behavior in regimes where no data were collected. Newton’s model has proven remarkably robust for engineering design, making it possible to land a spacecraft on the moon, which would not have been possible using Kepler’s model alone.\n",
      "\n",
      "translated_text: \n",
      "\n",
      " len: 0\n",
      " \n",
      "\n",
      "try again\n",
      "\n",
      "i=2\n",
      ": Each column of Eq. 3 requires a distinct optimization to find the sparse vector of coefficients ξk for the kth row equation. We may also normalize the columns of Θ(X), especially when entries of X are small, as discussed in the SI Appendix\n",
      "\n",
      "translated_text: \n",
      "提案する非線形ダイナミクスのスパース同定（SINDy）法は、測定変数、データ品質、スパース化関数基底の選択に依存する。非線形システム同定におけるすべての問題を解決する単一の手法は存在しないが、この手法はこれらの基本的な選択の重要性を強調し、解析の指針となる。測定変数とスパース化関数基底の選択の課題は、SI Appendix の 4.5 節と Appendix A と B で説明されています。\n",
      " len: 197\n",
      " \n",
      "translated_text: \n",
      "\n",
      " len: 0\n",
      " \n",
      "\n",
      "try again\n",
      "\n",
      "i=1\n",
      ": Simply put, we need the right coordinates and function basis to yield sparse dynamics; the feasibility and flexibility of these requirements is discussed in Discussion and SI Appendix section 4.5 and Appendixes A and B. However, it may be difficult to know the correct variables a priori. Fortunately, time-delay coordinates may provide useful variables from a time series (9, 12, 38). The ability to reconstruct sparse attractor dynamics using timedelay coordinates is demonstrated in SI Appendix, section 4.5 using a single variable of the Lorenz system.\n",
      "\n",
      "translated_text: \n",
      "[1-1]\n",
      " len: 5\n",
      " \n",
      "translated_text: \n",
      "機械学習(1)とデータサイエンス(2)の進歩は、複雑なデータの解析と理解におけるルネッサンスを約束し、人間の能力を超えた膨大なマルチモーダルデータのパターンを抽出している。しかし、統計的関係に基づいて静的データを理解するツールの急速な発展にもかかわらず、ビッグデータから動的プロセスの物理モデルを抽出することは遅々として進んでいない。このため、データ・サイエンス・モデルが、サンプリングされ構築されたアトラクターを超えるダイナミクスを外挿する能力には限界がある。ケプラーとニュートンの発見に例えることができる。ケプラーは、当時最も広範で正確な惑星データを持ち、データ駆動型の惑星運動モデルを開発した。しかし、これはアトラクターに基づく世界観であり、惑星の軌道を生み出す基本的な力学的関係を説明することはできなかった。これに対してニュートンは、運動量とエネルギーの間に、楕円軌道を生み出す根本的なプロセスを説明する力学的関係を発見した。この動的モデルは、データが収集されていない領域での挙動を予測するために一般化される可能性がある。ニュートンのモデルは、ケプラーのモデルだけでは不可能であった宇宙船の月面着陸を可能にし、工学的設計において極めて頑強であることが証明された。\n",
      " len: 535\n",
      " \n",
      "i=1\n",
      ": Next, we construct a library Θ(X) consisting of candidate nonlinear functions of the columns of X. For example, Θ(X) may consist of constant, polynomial, and trigonometric terms:\n",
      "\n",
      "translated_text: \n",
      "\n",
      " len: 0\n",
      " \n",
      "\n",
      "try again\n",
      "\n",
      "i=2\n",
      ": A seminal breakthrough by Bongard and Lipson (3) and Schmidt and Lipson (4) has resulted in a new approach to determine the underlying structure of a nonlinear dynamical system from data. This method uses symbolic regression [i.e., genetic programming (5)] to find nonlinear differential equations, and it balances complexity of the model, measured in the number of terms, with model accuracy. The resulting model identification realizes a long-sought goal of the physics and engineering communities to discover　dynamical systems from data. However, symbolic regression is expensive, does not scale well to large systems of interest, and may be prone to overfitting unless care is taken to explicitly balance model complexity with predictive power. In ref. 4, the Pareto front is used to find parsimonious models. There are other techniques that address various aspects of the dynamical system discovery problem. These include methods to discover governing equations from time-series data (6), equation-free modeling (7), empirical dynamic modeling (8, 9), modeling emergent behavior (10), and automated inference of dynamics (11–13); ref. 12 provides an excellent review\n",
      "\n",
      "translated_text: \n",
      "[7b]\n",
      " len: 4\n",
      " \n",
      "translated_text: \n",
      "式3の各列は、k行目の方程式のスパース係数ベクトルξkを求めるための個別の最適化を必要とする。Θ(X)の列は、特にXのエントリが小さい場合、SI Appendixで議論されているように、正規化することもできます。\n",
      " len: 106\n",
      " \n",
      "i=1\n",
      ": [7c]\n",
      "\n",
      "translated_text: \n",
      "例えば、Θ(X)は定数項、多項式項、三角項などで構成される：\n",
      " len: 30\n",
      " \n",
      "i=3\n",
      ": For examples in this paper, the matrix Θ(X) has size m × p, where p is the number of candidate functions, and m  p because there are more data samples than functions; this is possible in a restricted basis, such as the polynomial basis in Eq. 2. In practice, it may be helpful to test many different function bases and use the sparsity and accuracy of the resulting model as a diagnostic tool to determine the correct basis to represent the dynamics in. In SI Appendix, Appendix B, two examples are explored where the sparse identification algorithm fails because the dynamics are not sparse in the chosen basis\n",
      "\n",
      "translated_text: \n",
      "簡単に言えば、スパースダイナミクスを得るためには、正しい座標と関数基底が必要である。これらの要件の実現可能性と柔軟性については、考察とSI付録4.5節、付録AとBで議論している。幸いなことに、時間遅延座標は時系列から有用な変数を提供してくれるかもしれない(9, 12, 38)。時間遅延座標を使ってスパースアトラクターダイナミクスを再構築する能力は、SI付録の4.5節で、ローレンツ系の単一変数を用いて実証されている。\n",
      " len: 209\n",
      " \n",
      "i=2\n",
      ": [2]\n",
      "\n",
      "translated_text: \n",
      "[7c]\n",
      " len: 4\n",
      " \n",
      "i=2\n",
      ": The choice of coordinates and the sparsifying basis are intimately related, and the best choice is not always clear. However, basic knowledge of the physics (e.g., Navier–Stokes equations have quadratic nonlinearities, and the Schrödinger equation has jxj 2 x terms) may provide a reasonable choice of nonlinear functions and measurement coordinates. In fact, the sparsity and accuracy of the proposed sparse identified model may provide valuable diagnostic information about the correct measurement coordinates and basis in which to represent the dynamics. Choosing the right coordinates to simplify dynamics has always been important, as exemplified by Lagrangian and Hamiltonian mechanics (39). There is still a need for experts to find and exploit symmetry in the system, and the proposed methods should be complemented by advanced algorithms in machine learning to extract useful features\n",
      "\n",
      "translated_text: \n",
      "本論文の例では、行列Θ(X)のサイズはm×pであり、ここでpは候補関数の数であり、関数よりもデータサンプルの数が多いのでm pである。これは式2の多項式基底のような制限された基底で可能である。実際には、多くの異なる関数基底をテストし、得られたモデルのスパース性と精度を診断ツールとして使用し、ダイナミクスを表現する正しい基底を決定することが有用であろう。SI付録の付録Bでは、選択された基底においてダイナミクスがスパースでないためにスパース同定アルゴリズムが失敗する2つの例について説明します。\n",
      " len: 247\n",
      " \n",
      "i=2\n",
      ": Although these equations give rise to rich and chaotic dynamics that evolve on an attractor, there are only a few terms in the right-hand side of the equations. Fig. 1 shows a schematic of how data are collected for this example, and how sparse dynamics are identified in a space of possible right-hand-side functions using convex ℓ1 minimization.\n",
      "\n",
      "translated_text: \n",
      "[2]\n",
      " len: 3\n",
      " \n",
      "i=4\n",
      ": Realistically, often only X is available, and X’ must be approximated numerically, as in all of the continuous-time examples below. Thus, X and X’ are contaminated with noise so Eq. 3 does not hold exactly. Instead\n",
      "\n",
      "translated_text: \n",
      "座標の選択とスパース化基底の選択は密接に関連しており、最適な選択は必ずしも明確ではない。しかし、物理学の基本的な知識（例えば、Navier-Stokes方程式は2次非線形性を持ち、Schrödinger方程式はjxj 2 x項を持つ）が、非線形関数と測定座標の合理的な選択を提供するかもしれない。実際、提案するスパース同定モデルのスパース性と精度は、ダイナミクスを表現するための正しい測定座標と基底に関する貴重な診断情報を提供するかもしれない。ラグランジュ力学やハミルトン力学に代表されるように、ダイナミクスを単純化するために正しい座標を選択することは常に重要である(39)。システムの対称性を見つけて利用する専門家の必要性はまだあり、提案された方法は、有用な特徴を抽出するための機械学習の高度なアルゴリズムによって補完されるべきである。\n",
      " len: 369\n",
      " \n",
      "i=3\n",
      ": Here, higher polynomials are denoted as XP2 ,XP3 , etc., where XP2 denotes the quadratic nonlinearities in the state x\n",
      "\n",
      "translated_text: \n",
      "これらの方程式はアトラクター上で展開する豊かでカオス的なダイナミクスを生み出すが、方程式の右辺にはわずかな項しかない。図1は、この例でどのようにデータを収集し、凸ℓ1最小化を使ってどのようにスパースダイナミクスを可能な右辺関数の空間で同定するかを示す概略図である。\n",
      " len: 132\n",
      " \n",
      "i=3\n",
      ": Results\n",
      "\n",
      "translated_text: \n",
      "現実的には、Xだけが利用可能で、X'は数値的に近似されなければならないことが多い。このように、XとX'はノイズで汚染されているため、式3は正確には成り立たない。代わりに\n",
      " len: 84\n",
      " \n",
      "i=3\n",
      ": For this example, data are collected for the Lorenz system, and stacked into two large data matrices X and X_, where each row of X is a snapshot of the state x in time, and each row of X’ is a snapshot of the time derivative of the state x_ in time. Here, the right-handside dynamics are identified in the space of polynomials Θ(X) in (x,y,z) up to fifth order, although other functions such as sin, cos, exp, or higher-order polynomials may be included:\n",
      "\n",
      "translated_text: \n",
      "ここで、より高次の多項式はXP2、XP3などと表記され、XP2は状態x\n",
      " len: 35\n",
      " \n",
      "i=5\n",
      ": [6]\n",
      "\n",
      "translated_text: \n",
      "結果\n",
      " len: 2\n",
      " \n",
      "i=4\n",
      ": [2-2]\n",
      "\n",
      "translated_text: \n",
      "この例では、ローレンツ系のデータが収集され、2つの大きなデータ行列XとX_にスタックされる。ここで、Xの各行は時間における状態xのスナップショットであり、X'の各行は時間における状態x_の時間微分のスナップショットである。ここで、右側のダイナミクスは、5次までの(x,y,z)の多項式Θ(X)の空間で同定されるが、sin,cos,expや高次の多項式など他の関数を含めることもできる：\n",
      " len: 192\n",
      " \n",
      "i=4\n",
      ": We demonstrate the algorithm on canonical systems*, ranging from linear and nonlinear oscillators (SI Appendix, section 4.1), to noisy measurements of the chaotic Lorenz system, to the unsteady fluid wake behind a cylinder, extending this method to nonlinear PDEs and high-dimensional data. Finally, we show that bifurcation parameters may be included in the models, recovering the parameterized logistic map and the Hopf normal form from noisy measurements. In each example, we explore the ability to identify the dynamics from state measurements alone, without access to derivatives\n",
      "\n",
      "translated_text: \n",
      "[6]\n",
      " len: 3\n",
      " \n",
      "i=4\n",
      ": [7-7]\n",
      "\n",
      "translated_text: \n",
      "[2-2]\n",
      " len: 5\n",
      " \n",
      "i=6\n",
      ": where Z is modeled as a matrix of independent identically distributed Gaussian entries with zero mean, and noise magnitude η. Thus, we seek a sparse solution to an overdetermined system with noise. The least absolute shrinkage and selection operator (LASSO) (14, 15) is an ℓ1-regularized regression that promotes sparsity and works well with this type of data. However, it may be computationally expensive for very large data sets. An alternative based on sequential thresholded least-squares is presented in Code 1 in the SI Appendix\n",
      "\n",
      "translated_text: \n",
      "我々は、線形および非線形振動子（SI付録、4.1節）から、カオス的ローレンツ系のノイズの多い測定、円柱後流の非定常流体航跡に至るまで、正則系*でアルゴリズムを実証し、この方法を非線形PDEや高次元データに拡張する。最後に、ノイズの多い測定値からパラメータ化されたロジスティック写像とHopf正規形を復元し、分岐パラメータをモデルに含めることができることを示す。それぞれの例において、導関数にアクセスすることなく、状態計測のみからダイナミクスを同定する能力を探る。\n",
      " len: 231\n",
      " \n",
      "i=5\n",
      ": Each column of Θ(X) represents a candidate function for the right-hand side of Eq. 1. There is tremendous freedom in choosing the entries in this matrix of nonlinearities. Because we believe that only a few of these nonlinearities are active in each row of f, we may set up a sparse regression problem to determine the sparse vectors of coefficients Ξ= ½ ξ1 ξ2 ⋯ ξn  that determine which nonlinearities are active:\n",
      "\n",
      "translated_text: \n",
      "[7-7]\n",
      " len: 5\n",
      " \n",
      "i=5\n",
      ": It is important to reiterate that the sparse identification method relies on a fortunate choice of coordinates and function basis that facilitate sparse representation of the dynamics. In SI Appendix, Appendix B, we explore the limitations of the method for examples where these assumptions break down: the Lorenz system transformed into nonlinear coordinates and the glycolytic oscillator model (11–13).\n",
      "\n",
      "translated_text: \n",
      "ここでZは、平均がゼロで、ノイズの大きさがηである独立同分布ガウスエントリーの行列としてモデル化される。このように、我々はノイズを含む過剰決定系のスパース解を求める。最小絶対縮小選択演算子(LASSO)(14, 15)は、スパース性を促進するℓ1正則化回帰であり、この種のデータでよく機能する。しかし、非常に大きなデータ集合では計算コストが高くなることがある。逐次しきい値付き最小2乗法に基づく代替法が、SI Appendixのコード1に示されている\n",
      " len: 225\n",
      " \n",
      "i=5\n",
      ": Each column of Θ(X) represents a candidate function for the righthand side of Eq. 1. Because only a few of these terms are active in each row of f, we solve the sparse regression problem in Eq. 3 to determine the sparse vectors of coefficients Ξ= ½ ξ1 ξ2 ⋯ ξn  that determine which terms are active in the dynamics. This is illustrated schematically in Fig. 1, where sparse vectors ξk are found to represent the derivative x_k as a linear combination of the fewest terms in Θ(X).\n",
      "\n",
      "translated_text: \n",
      "Θ(X)の各列は、式(1)の右辺の候補関数を表す。この非線形行列のエントリを選択する自由度は非常に高い。fの各行では、これらの非線形性のうち数個だけがアクティブであると考えられるので、どの非線形性がアクティブであるかを決定する係数の疎なベクトルΞ= ½ ξ1 ξ2 ⋯ ξnを決定するために、疎回帰問題を設定することができる：\n",
      " len: 163\n",
      " \n",
      "i=7\n",
      ": Depending on the noise, it may be necessary to filter X and X’ before solving for Ξ. In many of the examples below, only the data X are available, and X’ are obtained by differentiation. To counteract differentiation error, we use the total variation regularization (32) to denoise the derivative (33). This works quite well when only state data X are available, as illustrated on the Lorenz system (SI Appendix, Fig. S7). Alternatively, the data X and X’ may be filtered, for example using the optimal hard threshold for singular values described in ref. 34. Insensitivity to noise is a critical feature of an algorithm that identifies dynamics from data (11–13).\n",
      "\n",
      "translated_text: \n",
      "スパース同定法は、ダイナミクスのスパース表現を容易にする座標と関数基底の幸運な選択に依存していることを再確認することが重要である。SI付録の付録Bでは、これらの仮定が崩れる例、すなわち非線形座標に変換されたローレンツ系と解糖系振動子モデル(11-13)について、この方法の限界を探っている。\n",
      " len: 145\n",
      " \n",
      "i=6\n",
      ": [3]\n",
      "\n",
      "translated_text: \n",
      "Θ(X)の各列は、式1の右辺の候補関数を表す。fの各行でアクティブになる項はごくわずかなので、式3のスパース回帰問題を解いて、どの項がダイナミクスの中でアクティブになるかを決定する係数のスパースベクトルΞ= ½ ξ1 ξ2 ⋯ ξnを決定する。これは図1に模式的に示されており，導関数x_kをΘ(X)の最も少ない項の線形結合として表現するスパースベクトルξkが見つかっている．\n",
      " len: 188\n",
      " \n",
      "i=6\n",
      ": Chaotic Lorenz System\n",
      "\n",
      "translated_text: \n",
      "ノイズによっては、Ξを解く前にXとX'をフィルタリングする必要があるかもしれない。以下の多くの例では、データXのみが利用可能であり、X'は微分によって得られる。微分誤差に対抗するため、全変動正則化(32)を用いて微分(33)をノイズ除去する。これは、ローレンツ系（SI Appendix, Fig. S7）で示されるように、状態データXのみが利用可能な場合に非常に効果的です。あるいは、例えばref. 34. ノイズに鈍感であることは、データからダイナミクスを識別するアルゴリズムの重要な特徴である(11-13)。\n",
      " len: 257\n",
      " \n",
      "i=6\n",
      ": In the Lorenz example, the ability to capture dynamics on the attractor is more important than the ability to predict an individual trajectory, because chaos will quickly cause any small variations in initial conditions or model coefficients to diverge exponentially. As shown in Fig. 1, the sparse model accurately reproduces the attractor dynamics from chaotic trajectory measurements. The algorithm not only identifies the correct terms in the dynamics, but it accurately determines the coefficients to within .03% of the true values. We also explore the identification of the dynamics when only noisy state measurements are available (SI Appendix, Fig. S7). The correct dynamics are identified, and the attractor is preserved for surprisingly large noise values. In SI Appendix, section 4.5, we reconstruct the attractor dynamics in the Lorenz system using time-delay coordinates from a single measurement x(t).\n",
      "\n",
      "translated_text: \n",
      "[3]\n",
      " len: 3\n",
      " \n",
      "i=8\n",
      ": Often, the physical system of interest may be naturally represented by a partial differential equation (PDE) in a few spatial variables. If data are collected from a numerical discretization or from experimental measurements on a spatial grid, then the state dimension n may be prohibitively large. For example, in fluid dynamics, even simple 2D and 3D flows may require tens of thousands up to billions of variables to represent the discretized system. The proposed method is ill-suited for a large state dimension n, because of the factorial growth of Θ in n and because each of the n row equations in Eq. 4 requires a separate optimization. Fortunately, many high-dimensional systems of interest evolve on a lowdimensional manifold or attractor that is well-approximated using a low-rank basis Ψ (35, 36). For example, if data X are collected for a high-dimensional system as in Eq. 2, it is possible to obtain a lowrank approximation using dimensionality reduction techniques, such as the proper orthogonal decomposition (POD) (35, 37).\n",
      "\n",
      "translated_text: \n",
      "カオス・ローレンツ系\n",
      " len: 10\n",
      " \n",
      "i=7\n",
      ": This is illustrated in Fig. 1. Each column ξk of Ξ is a sparse vector of coefficients determining which terms are active in the righthand side for one of the row equations x_k =fk(x)in Eq. 1. Once Ξ has been determined, a model of each row of the governing equations may be constructed as follows\n",
      "\n",
      "translated_text: \n",
      "ローレンツの例では、個々の軌道を予測する能力よりも、アトラクター上のダイナミクスを捉える能力の方が重要である。なぜなら、カオスは初期条件やモデル係数のわずかな変化もすぐに指数関数的に発散させてしまうからである。図1に示すように、スパースモデルはカオス的な軌道計測からアトラクターのダイナミクスを正確に再現します。このアルゴリズムはダイナミクスの正しい項を同定するだけでなく、係数を真の値の0.03%以内で正確に決定します。また、ノイズのある状態測定値しか得られない場合のダイナミクスの同定についても調べました（SI付録、図S7）。正しいダイナミクスが同定され、驚くほど大きなノイズ値に対してもアトラクターが維持された。SI Appendixの4.5節では、1つの測定値x(t)から時間遅延座標を用いてローレンツシステムのアトラクターダイナミクスを再構築する。\n",
      " len: 379\n",
      " \n",
      "i=7\n",
      ": As a first example, consider a canonical model for chaotic dynamics, the Lorenz system (40):\n",
      "\n",
      "translated_text: \n",
      "多くの場合、対象となる物理系は、少数の空間変数における偏微分方程式（PDE）によって自然に表現される。データが数値離散化や空間グリッド上の実験的測定から収集される場合、状態の次元nは法外に大きくなる可能性がある。例えば、流体力学では、単純な2次元や3次元の流れでさえ、離散化された系を表現するために数万から数十億の変数が必要になることがある。Θはnの階乗で成長し、式4のn行の方程式のそれぞれが個別の最適化を必要とするため、提案された方法は大きな状態次元nには不向きである。幸いなことに、多くの高次元システムは、低ランクの基底Ψ(35, 36)を用いてよく近似される低次元の多様体やアトラクター上で進化する。例えば、式2のような高次元システムに対してデータXが収集された場合、適切な直交分解（POD）のような次元削減技術を用いて低ランクの近似を得ることが可能である(35, 37)。\n",
      " len: 391\n",
      " \n",
      "translated_text: \n",
      "これを図1に示す。Ξの各列ξkは、式(1)の行方程式x_k =fk(x)の右辺でどの項がアクティブであるかを決定する係数のスパースベクトルである。Ξが決定されると、支配方程式の各行のモデルは以下のように構築される。\n",
      " len: 107\n",
      " \n",
      "translated_text: \n",
      "最初の例として、カオスダイナミクスの典型的なモデルであるローレンツ系(40)を考えてみよう：\n",
      " len: 46\n",
      " \n",
      "i=8\n",
      ": [4]\n",
      "\n",
      "translated_text: \n",
      "BongardとLipson(3)とSchmidtとLipson(4)による画期的なブレークスルーは、データから非線形力学系の基礎構造を決定する新しいアプローチをもたらした。この方法は、非線形微分方程式を求めるために記号的回帰[すなわち遺伝的プログラミング(5)]を使用し、項の数で測定されるモデルの複雑さとモデルの正確さのバランスをとる。その結果得られるモデル同定は、物理学や工学のコミュニティが長年求めてきた、データから力学系を発見するという目標を実現する。しかし、シンボリック回帰は高価であり、大規模なシステムにはうまくスケールせず、モデルの複雑さと予測力のバランスを明示的にとるように注意しない限り、オーバーフィッティングになりやすい。文献4では、パレート・フロントが使われている。4では，パレート・フロントが，簡潔なモデルを見つけるために使用されている．力学系発見問題の様々な側面に対処する技法は他にもある。時系列データから支配方程式を発見する方法(6)、方程式を使わないモデリング(7)、経験的動的モデリング(8,9)、創発的挙動のモデリング(10)、ダイナミクスの自動推論(11-13)などである。12は優れたレビューを提供している。\n",
      " len: 524\n",
      " \n",
      "i=8\n",
      ": [7a]\n",
      "\n",
      "translated_text: \n",
      "[4]\n",
      " len: 3\n",
      " \n",
      "i=3\n",
      ": Sparse Identification of Nonlinear Dynamics (SINDy)\n",
      "\n",
      "translated_text: \n",
      "[7a]\n",
      " len: 4\n",
      " \n",
      "translated_text: \n",
      "非線形ダイナミクスのスパース同定(SINDy)\n",
      " len: 23\n",
      " \n",
      "i=4\n",
      ": In this work, we reenvision the dynamical system discovery problem from the perspective of sparse regression (14–16) and compressed sensing (17–22). In particular, we leverage the fact that most physical systems have only a few relevant terms that define the dynamics, making the governing equations sparse in a high-dimensional nonlinear function space. The combination of sparsity methods in dynamical systems is quite recent (23–30). Here, we consider dynamical systems (31) of the form\n",
      "\n",
      "translated_text: \n",
      "本研究では、スパース回帰(14-16)と圧縮センシング(17-22)の観点から、力学系発見問題を再定義する。特に、ほとんどの物理系は、ダイナミクスを定義する関連項がわずかであり、支配方程式を高次元非線形関数空間においてスパースにするという事実を活用する。力学系におけるスパース性手法の組み合わせはごく最近のものである(23-30)。ここでは、次のような力学系(31)を考える。\n",
      " len: 188\n",
      " \n",
      "i=5\n",
      ": [1]\n",
      "\n",
      "translated_text: \n",
      "[1]\n",
      " len: 3\n",
      " \n",
      "i=6\n",
      ": The vector x(t)∈ Rn denotes the state of a system at time t, and the function f(x(t) represents the dynamic constraints that define the equations of motion of the system, such as Newton’s second law. Later, the dynamics will be generalized to include parameterization, time dependence, and forcing\n",
      "\n",
      "translated_text: \n",
      "ベクトルx(t)∈Rnは時間tにおけるシステムの状態を表し、関数f(x(t))はニュートンの第二法則のようなシステムの運動方程式を定義する動的制約を表す。後に、ダイナミクスはパラメータ化、時間依存性、強制を含むように一般化されます。\n",
      " len: 116\n",
      " \n",
      "i=7\n",
      ": The key observation is that for many systems of interest, the function f consists of only a few terms, making it sparse in the space of possible functions. Recent advances in compressed sensing and sparse regression make this viewpoint of sparsity favorable, because it is now possible to determine which right-hand-side terms are nonzero without performing a combinatorially intractable bruteforce search. This guarantees that the sparse solution is found with high probability using convex methods that scale to large problems favorably with Moore’s law. The resulting sparse model identification inherently balances model complexity (i.e., sparsity of the righthand-side dynamics) with accuracy, avoiding overfitting the model to the data. Wang et al. (23) have used compressed sensing to identify nonlinear dynamics and predict catastrophes; here, we advocate using sparse regression to mitigate noise.\n",
      "\n",
      "translated_text: \n",
      "重要な観測点は、関心のある多くのシステムにおいて、関数fは少数の項のみから構成され、可能な関数の空間においてスパースであるということである。最近の圧縮センシングとスパース回帰の進歩により、スパース性という観点が有利になった。これは、ムーアの法則によって大規模な問題に有利にスケールする凸法を用いて、スパース解が高い確率で発見されることを保証する。結果として得られるスパースモデル同定は、モデルの複雑さ（すなわち、右手側のダイナミクスのスパース性）と精度のバランスを本質的にとり、モデルをデータにオーバーフィットさせることを避ける。Wangら(23)は、非線形ダイナミクスを同定し、カタストロフィを予測するために圧縮センシングを使用した。\n",
      " len: 318\n",
      " \n",
      "i=8\n",
      ": To determine the function f from data, we collect a time history of the state x(t) and either measure the derivative x’(t) or approximate it numerically from x(t). The data are sampled at several times t1, t2, ⋯, tm and arranged into two matrices:\n",
      "\n",
      "translated_text: \n",
      "データから関数fを決定するためには，状態x(t)の時刻歴 を収集し，微分x'(t)を測定するか，x(t)から数値的に近似する．データはいくつかの時刻t1, t2, ⋯, tmでサンプリングされ，2つの行列に整理される．\n",
      " len: 109\n",
      " \n",
      "\n",
      "IPython CPU timings (estimated):\n",
      "  User   :       2.28 s.\n",
      "  System :       0.00 s.\n",
      "Wall time:     140.85 s.\n"
     ]
    }
   ],
   "source": [
    "%run -i -t v4_automatic_translation.py"
   ]
  },
  {
   "attachments": {},
   "cell_type": "markdown",
   "id": "c02c1f9e",
   "metadata": {},
   "source": [
    "## end point"
   ]
  },
  {
   "cell_type": "code",
   "execution_count": 3,
   "id": "2a80734c",
   "metadata": {},
   "outputs": [
    {
     "name": "stdout",
     "output_type": "stream",
     "text": [
      "translation\n"
     ]
    }
   ],
   "source": [
    "print(\"translation\")"
   ]
  },
  {
   "cell_type": "code",
   "execution_count": 4,
   "id": "fb0299c4-5555-4521-a44d-9f6b0b6e5407",
   "metadata": {},
   "outputs": [
    {
     "name": "stdout",
     "output_type": "stream",
     "text": [
      "False\n"
     ]
    },
    {
     "ename": "AttributeError",
     "evalue": "'NoneType' object has no attribute 'group'",
     "output_type": "error",
     "traceback": [
      "\u001b[1;31m---------------------------------------------------------------------------\u001b[0m",
      "\u001b[1;31mAttributeError\u001b[0m                            Traceback (most recent call last)",
      "\u001b[1;32m~\\AppData\\Local\\Temp/ipykernel_12576/2577926793.py\u001b[0m in \u001b[0;36m<module>\u001b[1;34m\u001b[0m\n\u001b[0;32m      8\u001b[0m \u001b[0mcan_translated\u001b[0m \u001b[1;33m=\u001b[0m \u001b[0mre\u001b[0m\u001b[1;33m.\u001b[0m\u001b[0msearch\u001b[0m\u001b[1;33m(\u001b[0m\u001b[1;34m\"\\[\\.\\.\\.\\]\"\u001b[0m\u001b[1;33m,\u001b[0m \u001b[0mtranslated_text\u001b[0m\u001b[1;33m)\u001b[0m\u001b[1;33m\u001b[0m\u001b[1;33m\u001b[0m\u001b[0m\n\u001b[0;32m      9\u001b[0m \u001b[0mprint\u001b[0m\u001b[1;33m(\u001b[0m\u001b[0mtype\u001b[0m\u001b[1;33m(\u001b[0m\u001b[0mcan_translated\u001b[0m\u001b[1;33m)\u001b[0m \u001b[1;32mis\u001b[0m \u001b[0mre\u001b[0m\u001b[1;33m.\u001b[0m\u001b[0mMatch\u001b[0m\u001b[1;33m)\u001b[0m\u001b[1;33m\u001b[0m\u001b[1;33m\u001b[0m\u001b[0m\n\u001b[1;32m---> 10\u001b[1;33m \u001b[0mprint\u001b[0m\u001b[1;33m(\u001b[0m\u001b[0mcan_translated\u001b[0m\u001b[1;33m.\u001b[0m\u001b[0mgroup\u001b[0m\u001b[1;33m(\u001b[0m\u001b[1;33m)\u001b[0m\u001b[1;33m)\u001b[0m\u001b[1;33m\u001b[0m\u001b[1;33m\u001b[0m\u001b[0m\n\u001b[0m",
      "\u001b[1;31mAttributeError\u001b[0m: 'NoneType' object has no attribute 'group'"
     ]
    }
   ],
   "source": [
    "import re\n",
    "translated_text = \"\"\"ここで、z（次元の長さ。以下、次元は括弧内に表記し、[L]ength, [M]ass, [T]time と略す）は河道の標高、x [L] は縦座標、A [L2 ] は排水面積、U [L T1 ] は隆起率、K [T1 L(12m) ] は気候・岩相等の影響を包含したエロディビリティ係数である。指数 m と n は経験的に導かれた係数であるが、n の値は岩盤切開の力学に基づいて提案されており、2/3 から 7/3 の間である [Whipple et al.，2000]。\n",
    "                    U と K は共に空間と時間の関数であり、K は土砂供給量の関数でもある [Sklar and Dietrich, 2004; Cowie et al., 2008; Hobley et al., 2011]、\n",
    "                    侵食閾値と流路幅の調整の影響を取り込む [Snyder et al., 2003; Lague, 2010; Attal et al., 2011 など] ことができる。\n",
    "                    ストリームパワーアプローチとその限界、および代替案については、Lague [2013]がレビューしている。\n",
    "                    Perron and Royden [2013]によって考案された積分法（Royden and Perron [2013]も参照）は，\n",
    "                    調査対象の流路の進化が式（1）で記述できることを前提としている．\"\"\"\n",
    "can_translated = re.search(\"\\[\\.\\.\\.\\]\", translated_text)\n",
    "print(type(can_translated) is re.Match)\n",
    "print(can_translated.group())"
   ]
  },
  {
   "cell_type": "code",
   "execution_count": 7,
   "id": "58fba6bb-f14e-41c6-b04d-d94d9be784ef",
   "metadata": {},
   "outputs": [],
   "source": [
    "word_dict = {\n",
    "                \"ニックスゾーン\": \"ニックゾーン\",\n",
    "                \"ナイフゾーン\": \"ニックゾーン\",\n",
    "                \"ニックスポイント\": \"ニックポイント\",\n",
    "                \"キックポイント\": \"ニックポイント\",\n",
    "                \"ナイフポイント\": \"ニックポイント\",\n",
    "                \"ノッチポイント\": \"ニックポイント\",\n",
    "                \"浸食\": \"侵食\",\n",
    "                \"切り込み\": \"侵食\",\n",
    "                \"侵食効率\": \"侵食速度\", \n",
    "                \"侵食率\": \"侵食速度\",\n",
    "                \"基盤レベル\":\"ベースレベル\",\n",
    "                \"基底レベル\":\"ベ-スレベル\",\n",
    "                \"ランドスケープ\": \"地形\",\n",
    "                \"景観\": \"地形\",\n",
    "                \"風景\": \"地形\",\n",
    "                \"岩石の隆起\": \"隆起\",\n",
    "                \"岩盤の隆起\": \"隆起\",\n",
    "                \"捕獲\": \"河川争奪\",\n",
    "                \"ストリームキャプチャー\": \"河川争奪\",\n",
    "                \"集水域\": \"流域\",\n",
    "                \"排水面積\": \"流域面積\",\n",
    "                \"盆地\": \"流域\",\n",
    "                \"ディバイド\" : \"分水界\",\n",
    "                \"分水嶺\" : \"分水界\",\n",
    "                \"流力モデル\":\"ストリームパワーモデル\",\n",
    "                \"います。\" : \"いる。\",\n",
    "                \"排水路ネットワーク\": \"流路網\",\n",
    "                \"排水ネットワーク\": \"流路網\",\n",
    "                }"
   ]
  },
  {
   "cell_type": "code",
   "execution_count": 10,
   "id": "55e5b338-5a30-4afa-9135-51e9fbf6aed6",
   "metadata": {},
   "outputs": [
    {
     "name": "stdout",
     "output_type": "stream",
     "text": [
      "\n",
      " 河川は通常、急勾配で凸状の{0}区間内で{1}を局限することによって、水位低下に対応する。局所的な侵食は、{0}区間を上流に移動させる。このような移動する{0}は、テクトニクスや{2}の変化に対する地形の反応のペースを決定し、{3}の低下のタイミングと原因を定量化するのに役立つ。{0}の同定には、通常、急勾配の区間を個別に選択する必要がある。このプロセスは面倒で主観的であり、{0}のサイズを測定する効率的な手段もない。我々は、χ空間（流域面積の正規化）の枠組みでニックゾーン区間の境界を選択することにより、この手順を自動化するアルゴリズムを構築した。自動化機能により、ユーザーが選んだニックゾーンのサブセットに対してアルゴリズムのパラメータを較正する。アルゴリズムは、これらのパラメータを一貫した基準として使用し、{0}を客観的に特定し、各{0}リーチの高さ、長さ、および傾斜を測定する。我々は、南カリフォルニアのサンタクルーズ島にある6つの集水域（幹流の長さ：2.1～5.4km）の1、10、30m解像度のデジタル標高モデル（DEM）を用いてアルゴリズムをテストした。1 m DEMでは、アルゴリズムで選択されたニックゾーンは、手作業で選択されたニックゾーン（n = 178）の93%（100 m以下の空間精度）、88%（50 m以内の精度）、46%（10 m以内の精度）を確認しました。10 mと30 m DEMでは、同様の精度（100 m以下で88-86%、50 m以下で82%）でした（それぞれn = 38 と36）。本アルゴリズムにより、地質構造、地図上の地形、丘陵斜面の形態と{0}のサイズと位置を効率的に地域比較することができ、過渡的な{4}のダイナミクスを特徴付けるアプローチを促進することができる。\n",
      "\n",
      " 河川は通常、急勾配で凸状のニックゾーン区間内で侵食を局限することによって、水位低下に対応する。局所的な侵食は、ニックゾーン区間を上流に移動させる。このような移動するニックゾーンは、テクトニクスや侵食速度の変化に対する地形の反応のペースを決定し、ベースレベルの低下のタイミングと原因を定量化するのに役立つ。ニックゾーンの同定には、通常、急勾配の区間を個別に選択する必要がある。このプロセスは面倒で主観的であり、ニックゾーンのサイズを測定する効率的な手段もない。我々は、χ空間（流域面積の正規化）の枠組みでニックゾーン区間の境界を選択することにより、この手順を自動化するアルゴリズムを構築した。自動化機能により、ユーザーが選んだニックゾーンのサブセットに対してアルゴリズムのパラメータを較正する。アルゴリズムは、これらのパラメータを一貫した基準として使用し、ニックゾーンを客観的に特定し、各ニックゾーンリーチの高さ、長さ、および傾斜を測定する。我々は、南カリフォルニアのサンタクルーズ島にある6つの集水域（幹流の長さ：2.1～5.4km）の1、10、30m解像度のデジタル標高モデル（DEM）を用いてアルゴリズムをテストした。1 m DEMでは、アルゴリズムで選択されたニックゾーンは、手作業で選択されたニックゾーン（n = 178）の93%（100 m以下の空間精度）、88%（50 m以内の精度）、46%（10 m以内の精度）を確認しました。10 mと30 m DEMでは、同様の精度（100 m以下で88-86%、50 m以下で82%）でした（それぞれn = 38 と36）。本アルゴリズムにより、地質構造、地図上の地形、丘陵斜面の形態とニックゾーンのサイズと位置を効率的に地域比較することができ、過渡的な地形のダイナミクスを特徴付けるアプローチを促進することができる。\n"
     ]
    }
   ],
   "source": [
    "sentence = \"河川は通常、急勾配で凸状のニックスゾーン区間内で浸食を局限することによって、水位低下に対応する。局所的な侵食は、ニックスゾーン区間を上流に移動させる。このような移動するニックスゾーンは、テクトニクスや侵食効率の変化に対する地形の反応のペースを決定し、基盤レベルの低下のタイミングと原因を定量化するのに役立つ。ニックスゾーンの同定には、通常、急勾配の区間を個別に選択する必要がある。このプロセスは面倒で主観的であり、ニックスゾーンのサイズを測定する効率的な手段もない。我々は、χ空間（流域面積の正規化）の枠組みでニックゾーン区間の境界を選択することにより、この手順を自動化するアルゴリズムを構築した。自動化機能により、ユーザーが選んだニックゾーンのサブセットに対してアルゴリズムのパラメータを較正する。アルゴリズムは、これらのパラメータを一貫した基準として使用し、ニックスゾーンを客観的に特定し、各ニックスゾーンリーチの高さ、長さ、および傾斜を測定する。我々は、南カリフォルニアのサンタクルーズ島にある6つの集水域（幹流の長さ：2.1～5.4km）の1、10、30m解像度のデジタル標高モデル（DEM）を用いてアルゴリズムをテストした。1 m DEMでは、アルゴリズムで選択されたニックゾーンは、手作業で選択されたニックゾーン（n = 178）の93%（100 m以下の空間精度）、88%（50 m以内の精度）、46%（10 m以内の精度）を確認しました。10 mと30 m DEMでは、同様の精度（100 m以下で88-86%、50 m以下で82%）でした（それぞれn = 38 と36）。本アルゴリズムにより、地質構造、地図上の地形、丘陵斜面の形態とニックスゾーンのサイズと位置を効率的に地域比較することができ、過渡的なランドスケープのダイナミクスを特徴付けるアプローチを促進することができる。\"\n",
    "replace_dict = {'ニックスゾーン': \"ニックゾーン\",\n",
    "                \"浸食\": \"侵食\",\n",
    "                \"侵食効率\": \"侵食速度\", \n",
    "                \"基盤レベル\": \"ベースレベル\",\n",
    "                \"ランドスケープ\": \"地形\",\n",
    "                }\n",
    "index_list = []\n",
    "for i, item in enumerate(replace_dict.items()):\n",
    "    sentence = sentence.replace(item[0], '{'+str(i)+'}')\n",
    "    index_list.append(item[1])\n",
    "print('\\n', sentence)\n",
    "sentence = sentence.format(*index_list)\n",
    "print('\\n', sentence)"
   ]
  },
  {
   "cell_type": "code",
   "execution_count": 12,
   "id": "a2edb9ac-1d90-48df-a8ed-4e66d7306abc",
   "metadata": {},
   "outputs": [
    {
     "name": "stdout",
     "output_type": "stream",
     "text": [
      "True\n"
     ]
    }
   ],
   "source": [
    "print(type(replace_dict) == dict)"
   ]
  },
  {
   "cell_type": "code",
   "execution_count": null,
   "id": "dd810a55-dac5-4cc9-9278-70abc78171fb",
   "metadata": {},
   "outputs": [],
   "source": []
  }
 ],
 "metadata": {
  "kernelspec": {
   "display_name": "Python 3.8.0 ('translation_dev')",
   "language": "python",
   "name": "python3"
  },
  "language_info": {
   "codemirror_mode": {
    "name": "ipython",
    "version": 3
   },
   "file_extension": ".py",
   "mimetype": "text/x-python",
   "name": "python",
   "nbconvert_exporter": "python",
   "pygments_lexer": "ipython3",
   "version": "3.8.0"
  },
  "vscode": {
   "interpreter": {
    "hash": "18b957c9e8d5aaa7908da56451be5fc4eea397278b5e97527909761e26652314"
   }
  }
 },
 "nbformat": 4,
 "nbformat_minor": 5
}
