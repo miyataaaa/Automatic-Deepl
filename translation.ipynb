{
 "cells": [
  {
   "attachments": {},
   "cell_type": "markdown",
   "id": "6604525f-b429-46db-8044-33b24b6e6d90",
   "metadata": {},
   "source": [
    "## sentense from \"test_Timescales of landscape response to divide migration .dock\""
   ]
  },
  {
   "cell_type": "code",
   "execution_count": 1,
   "id": "049b6aff-5427-4fab-8812-598e0f889b6a",
   "metadata": {},
   "outputs": [
    {
     "name": "stdout",
     "output_type": "stream",
     "text": [
      "Collecting webdriver-manager\n",
      "  Downloading webdriver_manager-3.4.2-py2.py3-none-any.whl (16 kB)\n",
      "Collecting configparser\n",
      "  Downloading configparser-5.0.2-py3-none-any.whl (19 kB)\n",
      "Requirement already satisfied: requests in c:\\users\\miyar\\anaconda3\\lib\\site-packages (from webdriver-manager) (2.25.1)\n",
      "Collecting crayons\n",
      "  Downloading crayons-0.4.0-py2.py3-none-any.whl (4.6 kB)\n",
      "Requirement already satisfied: colorama in c:\\users\\miyar\\anaconda3\\lib\\site-packages (from crayons->webdriver-manager) (0.4.4)\n",
      "Requirement already satisfied: chardet<5,>=3.0.2 in c:\\users\\miyar\\anaconda3\\lib\\site-packages (from requests->webdriver-manager) (3.0.4)\n",
      "Requirement already satisfied: urllib3<1.27,>=1.21.1 in c:\\users\\miyar\\anaconda3\\lib\\site-packages (from requests->webdriver-manager) (1.26.6)\n",
      "Requirement already satisfied: certifi>=2017.4.17 in c:\\users\\miyar\\anaconda3\\lib\\site-packages (from requests->webdriver-manager) (2021.5.30)\n",
      "Requirement already satisfied: idna<3,>=2.5 in c:\\users\\miyar\\anaconda3\\lib\\site-packages (from requests->webdriver-manager) (2.10)\n",
      "Installing collected packages: crayons, configparser, webdriver-manager\n",
      "Successfully installed configparser-5.0.2 crayons-0.4.0 webdriver-manager-3.4.2\n"
     ]
    }
   ],
   "source": [
    "!pip install webdriver-manager"
   ]
  },
  {
   "cell_type": "code",
   "execution_count": null,
   "id": "cedb689c-ee00-498a-8840-fe330e55de23",
   "metadata": {},
   "outputs": [],
   "source": [
    "!jupyter lab"
   ]
  },
  {
   "cell_type": "code",
   "execution_count": 13,
   "id": "54079686-565f-41e1-a367-cf5cb81cc4a9",
   "metadata": {},
   "outputs": [
    {
     "name": "stdout",
     "output_type": "stream",
     "text": [
      "tables obj?: <docx.table.Table object at 0x0000024A4E930940>\n",
      "type: <class 'docx.table.Table'>\n"
     ]
    }
   ],
   "source": [
    "from docx import Document\n",
    "import os \n",
    "parent_path = r\"C:\\Users\\miyar\\OneDrive\\デスクトップ\\四年\\文献演習\"\n",
    "fname = r\"test_Timescales of landscape response to divide migration\" + \".docx\"\n",
    "fpath = os.path.join(parent_path, fname)\n",
    "docxfile = Document(fpath)\n",
    "tables = docxfile.tables[0]\n",
    "print(\"tables obj?: {}\\ntype: {}\".format(tables, type(tables)))\n",
    "# dir(tables[0])\n",
    "# columns = tables[0].columns\n",
    "# print(\"columns obj?: {}\\ntype: {}\".format(columns, type(columns)))\n",
    "# # cells = tables[0].column_cells()\n",
    "# # print(\"cells obj?: {}\\ntype: {}\".format(cells, type(cells)))\n",
    "# direction = tables[0].table_direction\n",
    "# print(\"direction?: {}\\ntype: {}\".format(direction, type(direction)))\n",
    "# for column in tables.columns:\n",
    "#         column_text = []\n",
    "#         for cell in column.cells:\n",
    "#             text = cell.text\n",
    "#             print(text)\n",
    "\n",
    "row = tables.rows[4]\n",
    "cell = row.cells[0]\n",
    "para = cell.paragraphs[0]\n",
    "for run in para.runs:\n",
    "    if run.text:\n",
    "        run.bold = True\n",
    "        \n",
    "docxfile.save(fpath)\n",
    "# text = cell.text\n",
    "# print(\"text: \\n{}\".format(text))\n",
    "# print(\"dir cell: {}\".format(dir(cell)))\n",
    "# cells = tables.column_cells(1)\n",
    "# cells[1].text"
   ]
  },
  {
   "cell_type": "code",
   "execution_count": 47,
   "id": "2cfe5978-5fb4-42a4-9f87-8756f851eb21",
   "metadata": {},
   "outputs": [],
   "source": [
    "import chromedriver_binary \n",
    "from selenium import webdriver\n",
    "from selenium.webdriver.chrome.options import Options\n",
    "from selenium.webdriver.common.keys import Keys\n",
    "import time\n",
    "from threading import Lock\n",
    "import time\n",
    "options = Options()\n",
    "options.add_argument('--disable-gpu')\n",
    "options.add_argument('--disable-extensions')\n",
    "options.add_argument('--proxy-server=\"direct://\"')\n",
    "options.add_argument('--proxy-bypass-list=*')\n",
    "options.add_argument('--start-maximized')\n",
    "lock = Lock()\n",
    "browser = webdriver.Chrome()\n",
    "url = 'https://www.deepl.com/ja/translator'\n",
    "browser.get(url)\n",
    "# deepleにアクセスするまでしばらく待つ\n",
    "time.sleep(1)\n",
    "stextarea = browser.find_element_by_css_selector(\n",
    "            '.lmt__textarea.lmt__source_textarea.lmt__textarea_base_style')\n",
    "ttextarea = browser.find_element_by_css_selector(\n",
    "    '.lmt__textarea.lmt__target_textarea.lmt__textarea_base_style')\n",
    "\n",
    "lock.acquire()\n",
    "stextarea.send_keys(text)\n",
    "lock.release()\n",
    "\n",
    "translated_text = ''\n",
    "\n",
    "lock.acquire()\n",
    "while not translated_text:\n",
    "    time.sleep(2)\n",
    "    translated_text = ttextarea.get_property('value')\n",
    "#     translated_texts[i] = translated_text\n",
    "# ここに翻訳結果が出力されたら成功（途中経過をjupyter notebookで確認する場合はコメントイン）\n",
    "#print(translated_text)    \n",
    "lock.release()\n",
    "\n",
    "# sourse_textareaをクリアする\n",
    "time.sleep(2)\n",
    "stextarea.send_keys(Keys.CONTROL, \"a\")\n",
    "stextarea.send_keys(Keys.BACKSPACE)"
   ]
  },
  {
   "cell_type": "code",
   "execution_count": 48,
   "id": "13034a34-a22b-4748-8a53-df4d0a047bac",
   "metadata": {},
   "outputs": [
    {
     "data": {
      "text/plain": [
       "'河川の侵食は水と土砂のフラックスによって支配されており、長期的な景観の進化における分水嶺の移動と排水の捕捉の重要性は古くから認識されている[e.g.,Gilbert, 1877;Davis, 1903;Glock, 1931;Bishop, 1995]。それにもかかわらず、岩石の隆起速度や気候条件の時空間的なパターンを復元することを目的とした現代の地形分析では、一般的に分水嶺の移動や排水の捕捉はほとんど複雑ではないと明示的または暗黙的に想定されてきた。この概念的枠組みは、排水ネットワークは強い擾乱を受けない限り、すぐに不変のパターンに安定するという、一世代前の景観進化モデルによって強化された[Tucker and Hancock, 2010]。分水嶺が安定しているか、河道プロファイルの応答のタイムスケールと比較してゆっくりと移動している場合、河道プロファイルの形態の解釈における主な課題は、河道斜面に対するテクトニック、気候、および岩石学的なコントロールを定量化し、これらの要因の空間的および時間的な変動を区別する必要があることに起因する[例えば、Wobusら、2006; Kirby and Whipple、2012; Whittaker、2012; Lague、2014によるレビューを参照]。岩石の特性と気候が最小限の空間的変動を示す場合、多くの研究が、岩石の隆起速度の空間的・時間的パターンがどのように景観形態、特に河川の縦断形態に現れるかについての洞察を深めることに貢献してきた[e.g. Kirby and Whipple 2001; Whittaker 2012; Lague 2014]。Kirby and Whipple, 2001, 2012; Lavé and Avouac, 2001; Duvall et al., 2004; Clark et al., 2005; Craddock et al., 2007; Harkins et al., 2007; Whittaker et al., 2007; Hilley and Arrowsmith, 2008; Cyr et al., 2010; Attal et al., 2011; Kirby and Ouimet, 2011; Miller et al., 2012; Whittaker, 2012; Miller et al., 2013]. これらの研究では、分水嶺の移動の可能性を考慮していないため、基本的には、大規模な捕獲イベントは十分にまれであり、分水嶺の緩やかな移動は十分に遅いため、河川プロファイルは排水域の変化に対して平衡形態を維持できると仮定しているが、これは未検証の仮説である。'"
      ]
     },
     "execution_count": 48,
     "metadata": {},
     "output_type": "execute_result"
    }
   ],
   "source": [
    "translated_text"
   ]
  },
  {
   "cell_type": "code",
   "execution_count": 49,
   "id": "d9270d5b-1f60-465f-8bce-fc56fae87b5d",
   "metadata": {},
   "outputs": [],
   "source": [
    "cell_1 = row.cells[1]\n",
    "cell_1.text = translated_text\n"
   ]
  },
  {
   "cell_type": "code",
   "execution_count": 50,
   "id": "221282f8-b25a-4fc5-83b1-a9689d8ab930",
   "metadata": {},
   "outputs": [],
   "source": [
    "fname = r\"1_test_Timescales of landscape response to divide migration\" + \".docx\"\n",
    "fpath = os.path.join(parent_path, fname)\n",
    "docxfile.save(fpath)"
   ]
  },
  {
   "cell_type": "code",
   "execution_count": 51,
   "id": "9735e3df-c705-4e87-b8eb-72b3f0340f70",
   "metadata": {},
   "outputs": [],
   "source": [
    "import concurrent"
   ]
  },
  {
   "attachments": {},
   "cell_type": "markdown",
   "id": "a08fbbef-e948-4417-9ba5-8d919ee1856d",
   "metadata": {},
   "source": [
    "# import automatic_translation.py"
   ]
  },
  {
   "cell_type": "code",
   "execution_count": 1,
   "id": "78d0b58c-1a89-43b0-91e6-f4576face337",
   "metadata": {},
   "outputs": [],
   "source": [
    "import automatic_translation as at\n",
    "kwargs = {\"Fpath\": r\"C:\\Users\\miyar\\OneDrive\\デスクトップ\\四年\\文献演習\",\n",
    "          \"Fname\": r\"test_Timescales of landscape response to divide migration\",\n",
    "          \"max_worker\": 1}\n",
    "\n",
    "sentenses = at.sentense_from_docx(**kwargs)\n"
   ]
  },
  {
   "cell_type": "code",
   "execution_count": null,
   "id": "470a33c7-c7fb-43c3-830b-c3f71c012042",
   "metadata": {},
   "outputs": [],
   "source": [
    "import math \n",
    "max_worker = kwargs['max_worker']\n",
    "n = math.ceil(len(sentenses)/max_worker)\n",
    "split_sentenses = [sentenses[i:i+n] for i in range(0, len(sentenses), n)]\n",
    "split_sentenses"
   ]
  },
  {
   "cell_type": "code",
   "execution_count": 4,
   "id": "f3c75685-59ae-480b-8b78-11c400e61b27",
   "metadata": {},
   "outputs": [
    {
     "name": "stdout",
     "output_type": "stream",
     "text": [
      "len(sample_sentense): 3\n",
      "1\n"
     ]
    }
   ],
   "source": [
    "sample_sentense = sentenses[:3]\n",
    "print(\"len(sample_sentense): {}\".format(len(sample_sentense)))\n",
    "max_worker = kwargs['max_worker']\n",
    "split_sentenses = at.split_sentenses(max_worker, sentenses=sample_sentense)\n",
    "print(len(split_sentenses))"
   ]
  },
  {
   "cell_type": "code",
   "execution_count": null,
   "id": "88598b8d-de30-4ba0-9bad-27f9210d20f1",
   "metadata": {},
   "outputs": [],
   "source": [
    "sample_sentense"
   ]
  },
  {
   "cell_type": "code",
   "execution_count": null,
   "id": "4483b3bf-8af1-47a2-9944-152ef8bc4134",
   "metadata": {},
   "outputs": [],
   "source": [
    "translated_texts = at.translation_deepl(sourse_texts=sample_sentense)"
   ]
  },
  {
   "cell_type": "code",
   "execution_count": null,
   "id": "33709b2f-ad9b-4b71-aa8c-c6082ee3bc16",
   "metadata": {},
   "outputs": [],
   "source": [
    "%%time\n",
    "# sample_sentense = sentenses[:30]\n",
    "translated_texts = at.run_multiThread(sentenses=sample_sentense, **kwargs)"
   ]
  },
  {
   "cell_type": "code",
   "execution_count": null,
   "id": "98e34017-e1ad-4eb9-bd33-6e9dbe3329cc",
   "metadata": {},
   "outputs": [],
   "source": [
    "print(\"len(translated_texts) {}\".format(len(translated_texts)))\n",
    "print(translated_texts)\n",
    "# at.sentense_to_docx(translated_texts, **kwargs)"
   ]
  },
  {
   "cell_type": "code",
   "execution_count": 8,
   "id": "ce56b063-c8d8-4207-8d30-6ff92f9079c3",
   "metadata": {},
   "outputs": [
    {
     "data": {
      "text/plain": [
       "NoneType"
      ]
     },
     "execution_count": 8,
     "metadata": {},
     "output_type": "execute_result"
    }
   ],
   "source": [
    "import re\n",
    "cant = 'これは、地形の勾配や深さが増すにつれて浸食速度が増加するためであり（Ahnert, 1970; DiBiase et al. 時間的に不変な形態としての定常状態または平衡ランドスケープの概念は、地形輸送法則の開発、パラメータ化、検証（Dietrich et al.2003; Kirkby, 1971）や、平衡形態からの逸脱に基づく過渡的なランドスケープの解釈（Kirby and Whipple, 2012; Tucker and Whipple, 2002; Whipple and Tucker, 1999）において中心的な役割を果たしてきた。平衡状態に到達する可能性は、境界条件の変化に対するランドスケープの応答時間に依存する（Howard, 1982; Whipple, 2001）。地殻変動や気候変動の擾乱後に定常状態に達するのに必要な時間は、一般的に、個々の流域が浸食と岩石の隆起の割合が等しくなるように河川の急勾配を調整する時間と同じであり、多くのランドスケープでは数百万年のオーダーであると考えられている（Pazzaglia, 2003; Whipple, 2001; Whipple and Tucker, 1999）。 '\n",
    "can = re.search(\"\\[...\\]\", cant)\n",
    "type(can)"
   ]
  },
  {
   "cell_type": "code",
   "execution_count": 8,
   "id": "1dec9e13-9f96-46ae-a494-8485a34aa770",
   "metadata": {},
   "outputs": [
    {
     "name": "stdout",
     "output_type": "stream",
     "text": [
      "3\n",
      "3\n"
     ]
    }
   ],
   "source": [
    "at.sentense_to_docx(sample_sentense, translated_texts, **kwargs)\n",
    "print(len(sample_sentense))\n",
    "print(len(translated_texts))"
   ]
  },
  {
   "cell_type": "code",
   "execution_count": 10,
   "id": "23457c0e-777d-4384-b7bd-c0c409b43057",
   "metadata": {},
   "outputs": [
    {
     "data": {
      "text/plain": [
       "[[0, 1, 2, 3, 4], [5, 6, 7, 8, 9], [10, 11, 12]]"
      ]
     },
     "execution_count": 10,
     "metadata": {},
     "output_type": "execute_result"
    }
   ],
   "source": [
    "import math \n",
    "l = [i for i in range(13)]\n",
    "n = math.ceil(len(l)/3)\n",
    "split = [l[i:i+n] for i in range(0, len(l), n)]\n",
    "split"
   ]
  },
  {
   "cell_type": "code",
   "execution_count": 11,
   "id": "193de234-eeec-4815-a4c3-5e090e7b8bda",
   "metadata": {},
   "outputs": [
    {
     "data": {
      "text/plain": [
       "[10, 11, 12]"
      ]
     },
     "execution_count": 11,
     "metadata": {},
     "output_type": "execute_result"
    }
   ],
   "source": [
    "l[10:15]"
   ]
  },
  {
   "cell_type": "code",
   "execution_count": 4,
   "id": "76f3e1ce-dedd-45d7-a8c6-0c54f9913b50",
   "metadata": {},
   "outputs": [
    {
     "data": {
      "text/plain": [
       "re.Match"
      ]
     },
     "execution_count": 4,
     "metadata": {},
     "output_type": "execute_result"
    }
   ],
   "source": [
    "import re\n",
    "s = \"1abstract\"\n",
    "s_m = re.match(\"\\d\", s)\n",
    "type(s_m)"
   ]
  },
  {
   "cell_type": "code",
   "execution_count": 6,
   "id": "bbf45d3f-2691-4090-b5e4-0595810d1871",
   "metadata": {},
   "outputs": [
    {
     "data": {
      "text/plain": [
       "True"
      ]
     },
     "execution_count": 6,
     "metadata": {},
     "output_type": "execute_result"
    }
   ],
   "source": [
    "type(s_m) is re.Match"
   ]
  },
  {
   "attachments": {},
   "cell_type": "markdown",
   "id": "4028583c-69a2-4b43-a0aa-e84c02869113",
   "metadata": {},
   "source": [
    "## 空白文字削除"
   ]
  },
  {
   "cell_type": "code",
   "execution_count": 5,
   "id": "a074ec27-b722-48d2-b7f2-440357d89f78",
   "metadata": {},
   "outputs": [
    {
     "name": "stdout",
     "output_type": "stream",
     "text": [
      "Total sensentces in this articl = 1\n",
      "Total sensentces in this articl = 61\n"
     ]
    }
   ],
   "source": [
    "import v3_automatic_translation as at\n",
    "word_dict = {\n",
    "            \"ニックスゾーン\": \"ニックゾーン\",\n",
    "            }\n",
    "\n",
    "kwargs = {\"Fpath\": r\"E:\\研究関連\\文献演習\", # 要約対象のwordファイルが格納されているディレクトリ\n",
    "          \"Fname\": r\"4(根幹モデル).Developing and exploring a theory for the.docx\", # wordファイル名（拡張子込みで指定する）\n",
    "          \"max_worker\": 4, # 同時実行スレッド数。各PC事に最大値が違うので要確認。\n",
    "          \"replace_dict\" : word_dict,# 翻訳後に専門用語を正しく置換するための辞書(上記の辞書オブジェクト)\n",
    "          \"japaneseFont\" : \"游明朝 (本文のフォント - 日本語)\", # 翻訳された日本語のフォントを指定（詳しいフォント名はwordを参照）\n",
    "         } \n",
    "transltor = at.auto_translator(**kwargs)\n",
    "transltor.insert_pt = 0\n",
    "sentenses = transltor._sentence_from_docx()\n"
   ]
  },
  {
   "cell_type": "code",
   "execution_count": 6,
   "id": "8b49e68f-5369-4fe9-b356-b8571faeb40a",
   "metadata": {},
   "outputs": [],
   "source": [
    "for i in range(len(sentenses)):\n",
    "    text = sentenses[i] \n",
    "    if text == \"\":\n",
    "        print(\"i={} null!!!!!!!!!!!!!!!!!\\n\\n\".format(i))\n",
    "    # else:\n",
    "    #     print(\"i={} {}\".format(i, text))"
   ]
  },
  {
   "cell_type": "code",
   "execution_count": null,
   "id": "3538b15e-bd1f-4e3b-9cde-906b0471ecd6",
   "metadata": {},
   "outputs": [],
   "source": [
    "sentenses"
   ]
  },
  {
   "cell_type": "code",
   "execution_count": 4,
   "id": "4acc4c81-1ee2-4188-b49d-f2a1e1b36f10",
   "metadata": {},
   "outputs": [
    {
     "data": {
      "text/plain": [
       "['The calculation of the radius of curvature along two stream segments in a raster grid with D8 flow routing presents a challenge, as the angle between segments is discretized; the two segments may form a straight line, in which case the angle is equal to 0◦ , form a 45◦ angle, or form a 90◦ angle. In order to reduce the impact of this discretization, we assume that each of these three cases represents a continuum of possible radii of curvature. Cases of two straight segments are treated as if the actual angle between them ranges anywhere between +22.5 and −22.5◦ . If one takes the average among these possible angles, the resulting inverse radius of curvature is 0.23/dx, where dx is the cell size in the flow direction. Similarly, we assume that a 45◦ bend represents a continuum of possible angles between the two segments ranging from 22.5–63.5◦ , resulting in an inverse radius of curvature of 0.67/dx. Following the same principle for a 90◦ bend gives a mean inverse radius of curvature of 1.37/dx (see the Supplement).']"
      ]
     },
     "execution_count": 4,
     "metadata": {},
     "output_type": "execute_result"
    }
   ],
   "source": [
    "transltor.eg_sentence"
   ]
  },
  {
   "cell_type": "code",
   "execution_count": 9,
   "id": "5860f2d6-9ab1-44e0-b1f5-e6544244a860",
   "metadata": {},
   "outputs": [
    {
     "name": "stdout",
     "output_type": "stream",
     "text": [
      "地形学の主要な目的の一つは、地形が地殻変動、気候変動、侵食の履歴をどのように記録しているかを理解することである。この枠組みの中で、地形は一般的に定常状態と過渡状態に分類される[Kirby and Whipple, 2012]。定常的な地形とは、気候、岩石の強度、侵食プロセスによって決まる侵食速度と、隆起が丘陵斜面の低下と河川の侵食によって釣り合うように地形が調整されたものである。対照的に、過渡的な地形は、テクトニクスまたは侵食の条件に突然または持続的な変化が生じた場合に存在し、侵食がテクトニクスと釣り合わず、地形が徐々に調整される [Whipple and Tucker, 1999; Whipple, 2001; Tucker and Whipple, 2002; Kirby and Whipple, 2012; Whittaker, 2012]。定常的な地形では、侵食、隆起、侵食速度の間のバランスによって、傾斜、曲率、またはレリーフなどの地形指標が、気候、テクトニクス、および岩石の強度などの現在の環境条件と相関していることがわかる。過渡的な地形では、地形は徐々に調整され、地形指標は現在の環境条件に適応している地域と過去の環境条件に適応している「残存地形」との対比を明らかにすることができる。\n"
     ]
    }
   ],
   "source": [
    "from docx import Document\n",
    "from docx.oxml.ns import qn\n",
    "import os \n",
    "parent_path = r\"E:\\研究関連\\文献リスト\\knickpoint\"\n",
    "fname = r\"デバック用\" + \".docx\"\n",
    "fpath = os.path.join(parent_path, fname)\n",
    "docxfile = Document(fpath)\n",
    "tables = docxfile.tables[0]\n",
    "o_cells = tables.column_cells(1)\n",
    "runs = o_cells[1].paragraphs[0].runs\n",
    "for run in runs:\n",
    "    run.font.name = \"游明朝 (本文のフォント - 日本語)\"\n",
    "    run._element.rPr.rFonts.set(qn('w:eastAsia'), run.font.name)\n",
    "    print(run.text)\n",
    "docxfile.save(fpath)\n",
    "# print(o_cells[0].paragraphs[0].style.name)"
   ]
  },
  {
   "cell_type": "code",
   "execution_count": null,
   "id": "d6de55a4-f356-4e66-81dc-0d1288308141",
   "metadata": {},
   "outputs": [],
   "source": [
    "from docx import Document\n",
    "from docx.oxml.ns import qn\n",
    "import os \n",
    "parent_path = r\"C:\\Users\\miyar\\OneDrive\\デスクトップ\\研究関連\"\n",
    "fname = r\"sample.docx\"\n",
    "fpath = os.path.join(parent_path, fname)\n",
    "docxfile = Document(fpath)\n",
    "tables = docxfile.tables[0]\n",
    "o_cells = tables.column_cells(0)\n",
    "for cell in o_cells:\n",
    "    print(cell.text, \"\\n\", cell.text == \"\")"
   ]
  },
  {
   "attachments": {},
   "cell_type": "markdown",
   "id": "567d94b3-d623-4d36-8e7c-3a88d6999da5",
   "metadata": {},
   "source": [
    "# main"
   ]
  },
  {
   "attachments": {},
   "cell_type": "markdown",
   "id": "9d74f318-5501-4e3b-817e-f6dfca71a544",
   "metadata": {},
   "source": [
    "### 各セクションタイトル部分は先頭文字が数字になっているか確認＋woed内の各セルの末尾に余計な改行がないか確認"
   ]
  },
  {
   "attachments": {},
   "cell_type": "markdown",
   "id": "e88414b0-5540-497e-b026-55d38c8cfda3",
   "metadata": {},
   "source": [
    "### automatic_translation.pyファイルの最後にあるif__name__==\"__main__\"以降のファイル名等を変更後に以下のセルを実行してください。"
   ]
  },
  {
   "cell_type": "code",
   "execution_count": 2,
   "id": "225d3e0b-e221-40ca-8c1c-f10b99685907",
   "metadata": {},
   "outputs": [
    {
     "name": "stdout",
     "output_type": "stream",
     "text": [
      "Total sensentces in this articl = 1\n",
      "len(split_list): 1\n",
      "i=0\n",
      "split_list: ['Several mechanisms exist for generating ニックポイント in meandering channels (e.g., Frankel et al., 2007; Seidl and Dietrich, 1992). In addition, if ニックポイント are diffusive or stationary (Seidl and Dietrich, 1992), then strath terraces formed from our proposed mechanism might be limited to a discrete zone upstream of a cutoff, or perhaps not present at all. We therefore emphasize that our goal here is not to offer a comprehensive explanation for unpaired strath terraces along the Smith River (and elsewhere). Rather, our goal is to show how unpaired strath terraces can form entirely as an instability triggered by bedrock river meandering. We note that belts of uplifted clastic sedimentary rocks, where strath terraces and bedrock river meanders are commonly observed, compose wide swaths of most active mountain ranges on Earth. Given the instabilities that are inherent to these meandering channels, we therefore question the potential fi delity of such rivers as recorders of climatic and tectonic events']\n",
      "i=0\n",
      ": Several mechanisms exist for generating ニックポイント in meandering channels (e.g., Frankel et al., 2007; Seidl and Dietrich, 1992). In addition, if ニックポイント are diffusive or stationary (Seidl and Dietrich, 1992), then strath terraces formed from our proposed mechanism might be limited to a discrete zone upstream of a cutoff, or perhaps not present at all. We therefore emphasize that our goal here is not to offer a comprehensive explanation for unpaired strath terraces along the Smith River (and elsewhere). Rather, our goal is to show how unpaired strath terraces can form entirely as an instability triggered by bedrock river meandering. We note that belts of uplifted clastic sedimentary rocks, where strath terraces and bedrock river meanders are commonly observed, compose wide swaths of most active mountain ranges on Earth. Given the instabilities that are inherent to these meandering channels, we therefore question the potential fi delity of such rivers as recorders of climatic and tectonic events\n",
      "\n"
     ]
    },
    {
     "ename": "NameError",
     "evalue": "name 'WebDriverWait' is not defined",
     "output_type": "error",
     "traceback": [
      "\u001b[1;31m---------------------------------------------------------------------------\u001b[0m",
      "\u001b[1;31mNameError\u001b[0m                                 Traceback (most recent call last)",
      "File \u001b[1;32mZ:\\miyata\\translation\\v4_automatic_translation.py:438\u001b[0m\n\u001b[0;32m    429\u001b[0m kwargs \u001b[39m=\u001b[39m {\u001b[39m\"\u001b[39m\u001b[39mFpath\u001b[39m\u001b[39m\"\u001b[39m: \u001b[39mr\u001b[39m\u001b[39m\"\u001b[39m\u001b[39mF:\u001b[39m\u001b[39m\\\u001b[39m\u001b[39m研究関連\u001b[39m\u001b[39m\\\u001b[39m\u001b[39m文献リスト\u001b[39m\u001b[39m\\\u001b[39m\u001b[39mNumerical Model\u001b[39m\u001b[39m\"\u001b[39m, \u001b[39m# 要約対象のwordファイルが格納されているディレクトリ\u001b[39;00m\n\u001b[0;32m    430\u001b[0m           \u001b[39m\"\u001b[39m\u001b[39mFname\u001b[39m\u001b[39m\"\u001b[39m: \u001b[39mr\u001b[39m\u001b[39m\"\u001b[39m\u001b[39mFinnegan et al (2011).docx\u001b[39m\u001b[39m\"\u001b[39m, \u001b[39m# wordファイル名（拡張子込みで指定する）\u001b[39;00m\n\u001b[0;32m    431\u001b[0m           \u001b[39m\"\u001b[39m\u001b[39mmax_worker\u001b[39m\u001b[39m\"\u001b[39m: \u001b[39m5\u001b[39m, \u001b[39m# 同時実行スレッド数。もし１つのスレッドで例外が発生した場合、デッドロックになってしまいエラーが伝搬してこないので、デバックする際は1スレッドに変更する\u001b[39;00m\n\u001b[1;32m   (...)\u001b[0m\n\u001b[0;32m    434\u001b[0m           \u001b[39m\"\u001b[39m\u001b[39mjapaneseFont\u001b[39m\u001b[39m\"\u001b[39m : \u001b[39m\"\u001b[39m\u001b[39m游明朝 (本文のフォント - 日本語)\u001b[39m\u001b[39m\"\u001b[39m, \u001b[39m# 翻訳された日本語のフォントを指定（詳しいフォント名はwordを参照）\u001b[39;00m\n\u001b[0;32m    435\u001b[0m          } \n\u001b[0;32m    437\u001b[0m translator \u001b[39m=\u001b[39m auto_translator(wating_sec\u001b[39m=\u001b[39m\u001b[39m2\u001b[39m, \u001b[39m*\u001b[39m\u001b[39m*\u001b[39mkwargs)\n\u001b[1;32m--> 438\u001b[0m translator\u001b[39m.\u001b[39;49mrun_multiThread()\n\u001b[0;32m    439\u001b[0m translator\u001b[39m.\u001b[39msaveFile()\n",
      "File \u001b[1;32mZ:\\miyata\\translation\\v4_automatic_translation.py:276\u001b[0m, in \u001b[0;36mauto_translator.run_multiThread\u001b[1;34m(self)\u001b[0m\n\u001b[0;32m    273\u001b[0m     result \u001b[39m=\u001b[39m executor\u001b[39m.\u001b[39mmap(\u001b[39mself\u001b[39m\u001b[39m.\u001b[39m_translation_deepl, split_list)\n\u001b[0;32m    275\u001b[0m \u001b[39m# translated_texts = []\u001b[39;00m\n\u001b[1;32m--> 276\u001b[0m results \u001b[39m=\u001b[39m [sentences \u001b[39mfor\u001b[39;00m sentences \u001b[39min\u001b[39;00m result]\n\u001b[0;32m    277\u001b[0m \u001b[39mfor\u001b[39;00m i \u001b[39min\u001b[39;00m \u001b[39mrange\u001b[39m(\u001b[39mlen\u001b[39m(results)):\n\u001b[0;32m    278\u001b[0m     texts \u001b[39m=\u001b[39m results[i]\n",
      "File \u001b[1;32mZ:\\miyata\\translation\\v4_automatic_translation.py:276\u001b[0m, in \u001b[0;36m<listcomp>\u001b[1;34m(.0)\u001b[0m\n\u001b[0;32m    273\u001b[0m     result \u001b[39m=\u001b[39m executor\u001b[39m.\u001b[39mmap(\u001b[39mself\u001b[39m\u001b[39m.\u001b[39m_translation_deepl, split_list)\n\u001b[0;32m    275\u001b[0m \u001b[39m# translated_texts = []\u001b[39;00m\n\u001b[1;32m--> 276\u001b[0m results \u001b[39m=\u001b[39m [sentences \u001b[39mfor\u001b[39;00m sentences \u001b[39min\u001b[39;00m result]\n\u001b[0;32m    277\u001b[0m \u001b[39mfor\u001b[39;00m i \u001b[39min\u001b[39;00m \u001b[39mrange\u001b[39m(\u001b[39mlen\u001b[39m(results)):\n\u001b[0;32m    278\u001b[0m     texts \u001b[39m=\u001b[39m results[i]\n",
      "File \u001b[1;32mz:\\miyata\\Anaconda\\envs\\translation_dev3\\lib\\concurrent\\futures\\_base.py:621\u001b[0m, in \u001b[0;36mExecutor.map.<locals>.result_iterator\u001b[1;34m()\u001b[0m\n\u001b[0;32m    618\u001b[0m \u001b[39mwhile\u001b[39;00m fs:\n\u001b[0;32m    619\u001b[0m     \u001b[39m# Careful not to keep a reference to the popped future\u001b[39;00m\n\u001b[0;32m    620\u001b[0m     \u001b[39mif\u001b[39;00m timeout \u001b[39mis\u001b[39;00m \u001b[39mNone\u001b[39;00m:\n\u001b[1;32m--> 621\u001b[0m         \u001b[39myield\u001b[39;00m _result_or_cancel(fs\u001b[39m.\u001b[39;49mpop())\n\u001b[0;32m    622\u001b[0m     \u001b[39melse\u001b[39;00m:\n\u001b[0;32m    623\u001b[0m         \u001b[39myield\u001b[39;00m _result_or_cancel(fs\u001b[39m.\u001b[39mpop(), end_time \u001b[39m-\u001b[39m time\u001b[39m.\u001b[39mmonotonic())\n",
      "File \u001b[1;32mz:\\miyata\\Anaconda\\envs\\translation_dev3\\lib\\concurrent\\futures\\_base.py:319\u001b[0m, in \u001b[0;36m_result_or_cancel\u001b[1;34m(***failed resolving arguments***)\u001b[0m\n\u001b[0;32m    317\u001b[0m \u001b[39mtry\u001b[39;00m:\n\u001b[0;32m    318\u001b[0m     \u001b[39mtry\u001b[39;00m:\n\u001b[1;32m--> 319\u001b[0m         \u001b[39mreturn\u001b[39;00m fut\u001b[39m.\u001b[39;49mresult(timeout)\n\u001b[0;32m    320\u001b[0m     \u001b[39mfinally\u001b[39;00m:\n\u001b[0;32m    321\u001b[0m         fut\u001b[39m.\u001b[39mcancel()\n",
      "File \u001b[1;32mz:\\miyata\\Anaconda\\envs\\translation_dev3\\lib\\concurrent\\futures\\_base.py:451\u001b[0m, in \u001b[0;36mFuture.result\u001b[1;34m(self, timeout)\u001b[0m\n\u001b[0;32m    449\u001b[0m     \u001b[39mraise\u001b[39;00m CancelledError()\n\u001b[0;32m    450\u001b[0m \u001b[39melif\u001b[39;00m \u001b[39mself\u001b[39m\u001b[39m.\u001b[39m_state \u001b[39m==\u001b[39m FINISHED:\n\u001b[1;32m--> 451\u001b[0m     \u001b[39mreturn\u001b[39;00m \u001b[39mself\u001b[39;49m\u001b[39m.\u001b[39;49m__get_result()\n\u001b[0;32m    453\u001b[0m \u001b[39mself\u001b[39m\u001b[39m.\u001b[39m_condition\u001b[39m.\u001b[39mwait(timeout)\n\u001b[0;32m    455\u001b[0m \u001b[39mif\u001b[39;00m \u001b[39mself\u001b[39m\u001b[39m.\u001b[39m_state \u001b[39min\u001b[39;00m [CANCELLED, CANCELLED_AND_NOTIFIED]:\n",
      "File \u001b[1;32mz:\\miyata\\Anaconda\\envs\\translation_dev3\\lib\\concurrent\\futures\\_base.py:403\u001b[0m, in \u001b[0;36mFuture.__get_result\u001b[1;34m(self)\u001b[0m\n\u001b[0;32m    401\u001b[0m \u001b[39mif\u001b[39;00m \u001b[39mself\u001b[39m\u001b[39m.\u001b[39m_exception:\n\u001b[0;32m    402\u001b[0m     \u001b[39mtry\u001b[39;00m:\n\u001b[1;32m--> 403\u001b[0m         \u001b[39mraise\u001b[39;00m \u001b[39mself\u001b[39m\u001b[39m.\u001b[39m_exception\n\u001b[0;32m    404\u001b[0m     \u001b[39mfinally\u001b[39;00m:\n\u001b[0;32m    405\u001b[0m         \u001b[39m# Break a reference cycle with the exception in self._exception\u001b[39;00m\n\u001b[0;32m    406\u001b[0m         \u001b[39mself\u001b[39m \u001b[39m=\u001b[39m \u001b[39mNone\u001b[39;00m\n",
      "File \u001b[1;32mz:\\miyata\\Anaconda\\envs\\translation_dev3\\lib\\concurrent\\futures\\thread.py:58\u001b[0m, in \u001b[0;36m_WorkItem.run\u001b[1;34m(self)\u001b[0m\n\u001b[0;32m     55\u001b[0m     \u001b[39mreturn\u001b[39;00m\n\u001b[0;32m     57\u001b[0m \u001b[39mtry\u001b[39;00m:\n\u001b[1;32m---> 58\u001b[0m     result \u001b[39m=\u001b[39m \u001b[39mself\u001b[39m\u001b[39m.\u001b[39mfn(\u001b[39m*\u001b[39m\u001b[39mself\u001b[39m\u001b[39m.\u001b[39margs, \u001b[39m*\u001b[39m\u001b[39m*\u001b[39m\u001b[39mself\u001b[39m\u001b[39m.\u001b[39mkwargs)\n\u001b[0;32m     59\u001b[0m \u001b[39mexcept\u001b[39;00m \u001b[39mBaseException\u001b[39;00m \u001b[39mas\u001b[39;00m exc:\n\u001b[0;32m     60\u001b[0m     \u001b[39mself\u001b[39m\u001b[39m.\u001b[39mfuture\u001b[39m.\u001b[39mset_exception(exc)\n",
      "File \u001b[1;32mZ:\\miyata\\translation\\v4_automatic_translation.py:181\u001b[0m, in \u001b[0;36mauto_translator._translation_deepl\u001b[1;34m(self, sourse_texts)\u001b[0m\n\u001b[0;32m    171\u001b[0m \u001b[39mprint\u001b[39m(\u001b[39m\"\u001b[39m\u001b[39mi=\u001b[39m\u001b[39m{}\u001b[39;00m\u001b[39m\\n\u001b[39;00m\u001b[39m: \u001b[39m\u001b[39m{}\u001b[39;00m\u001b[39m\\n\u001b[39;00m\u001b[39m\"\u001b[39m\u001b[39m.\u001b[39mformat(i, sourse_text))\n\u001b[0;32m    173\u001b[0m \u001b[39m# stextarea = browser.find_element_by_css_selector(\u001b[39;00m\n\u001b[0;32m    174\u001b[0m \u001b[39m#     '.lmt__textarea.lmt__source_textarea.lmt__textarea_base_style')\u001b[39;00m\n\u001b[0;32m    175\u001b[0m \u001b[39m# ttextarea = browser.find_element_by_css_selector(\u001b[39;00m\n\u001b[1;32m   (...)\u001b[0m\n\u001b[0;32m    179\u001b[0m \u001b[39m# ttextarea = browser.find_element(By.CSS_SELECTOR,\u001b[39;00m\n\u001b[0;32m    180\u001b[0m \u001b[39m#     '.lmt__textarea.lmt__target_textarea.lmt__textarea_base_style')\u001b[39;00m\n\u001b[1;32m--> 181\u001b[0m wait \u001b[39m=\u001b[39m WebDriverWait(browser, \u001b[39m10\u001b[39m)\n\u001b[0;32m    182\u001b[0m stextarea \u001b[39m=\u001b[39m wait\u001b[39m.\u001b[39muntil(EC\u001b[39m.\u001b[39mpresence_of_element_located((By\u001b[39m.\u001b[39mCSS_SELECTOR, \u001b[39m'\u001b[39m\u001b[39m.lmt__textarea\u001b[39m\u001b[39m'\u001b[39m)))\n\u001b[0;32m    183\u001b[0m ttextarea \u001b[39m=\u001b[39m wait\u001b[39m.\u001b[39muntil(EC\u001b[39m.\u001b[39mpresence_of_element_located((By\u001b[39m.\u001b[39mCSS_SELECTOR, \u001b[39m'\u001b[39m\u001b[39m.lmt__textarea\u001b[39m\u001b[39m'\u001b[39m)))\n",
      "\u001b[1;31mNameError\u001b[0m: name 'WebDriverWait' is not defined"
     ]
    },
    {
     "name": "stdout",
     "output_type": "stream",
     "text": [
      "\n",
      "IPython CPU timings (estimated):\n",
      "  User   :       2.06 s.\n",
      "  System :       0.00 s.\n",
      "Wall time:       7.89 s.\n"
     ]
    }
   ],
   "source": [
    "%run -i -t v4_automatic_translation.py"
   ]
  },
  {
   "cell_type": "code",
   "execution_count": null,
   "id": "ba0980f3",
   "metadata": {},
   "outputs": [],
   "source": [
    "def _translation_deepl(self, sourse_texts=[]):\n",
    "\n",
    "        \"\"\"\n",
    "        抜き出した英文をdeeplにコピペして翻訳する関数。引数は翻訳する文章が要素のリスト\n",
    "\n",
    "        \"\"\"\n",
    "\n",
    "        res = requests.get('https://chromedriver.storage.googleapis.com/LATEST_RELEASE')\n",
    "        browser = webdriver.Chrome(ChromeDriverManager(res.text).install())\n",
    "        url = 'https://www.deepl.com/ja/translator'\n",
    "        browser.get(url)\n",
    "        # deepleにアクセスするまでしばらく待つ\n",
    "        time.sleep(1)\n",
    "        # wordの文章をparagraph単位で翻訳していく\n",
    "        # 先頭が数字の場合にセクションのタイトルと判定している。\n",
    "        translated_texts = []\n",
    "        for i in range(len(sourse_texts)):         \n",
    "            sourse_text = sourse_texts[i]\n",
    "\n",
    "            print(\"i={}\\n: {}\\n\".format(i, sourse_text))\n",
    "\n",
    "            stextarea = browser.find_element_by_css_selector(\n",
    "                '.lmt__textarea.lmt__source_textarea.lmt__textarea_base_style')\n",
    "            ttextarea = browser.find_element_by_css_selector(\n",
    "                '.lmt__textarea.lmt__target_textarea.lmt__textarea_base_style')\n",
    "            \n",
    "            lock.acquire()\n",
    "            # stextarea.send_keys(sourse_text) #この方法だと絵文字（数式を送る事ができない）\n",
    "            # javascriptを仕込む方法に変更 2022/4/22 https://tech.bita.jp/article/19\n",
    "            INPUT_EMOJI = \"\"\"\n",
    "            arguments[0].value += arguments[1];\n",
    "            arguments[0].dispatchEvent(new Event('change'));\n",
    "            \"\"\"\n",
    "            browser.execute_script(INPUT_EMOJI, stextarea, sourse_text)\n",
    "            lock.release()\n",
    "\n",
    "            translated_text = ''\n",
    "\n",
    "            lock.acquire()\n",
    "            # 完全に翻訳されるまで繰り返す。判定は翻訳後文章の文字数が0かどうか\n",
    "            # 文字数が0の場合は繰り返される。\n",
    "            sec = self.wating_sec\n",
    "            while not translated_text:\n",
    "                # print(\"keep now....\")\n",
    "                time.sleep(sec)\n",
    "                translated_text = ttextarea.get_property('value')\n",
    "                print(\"translated_text: \\n{}\\n len: {}\\n \".format(translated_text, len(translated_text))) \n",
    "                can_translated = re.search(\"\\[\\.\\.\\.\\]\", translated_text)\n",
    "                if type(can_translated) is re.Match:\n",
    "                    print(\"\\ntry again\\n\")\n",
    "                    translated_text = ''\n",
    "                    sec += 2\n",
    "                elif len(translated_text) == 0: # 翻訳されていない場合（[...]すら表示されていないパターン）\n",
    "                    print(\"\\ntry again\\n\")\n",
    "                    translated_text = ''\n",
    "                    sec += 2\n",
    "                else:\n",
    "                    if self.replace_flag_jp_to_jp:\n",
    "                        translated_texts.append(self._keyword_replace(translated_text))\n",
    "                    else:\n",
    "                        translated_texts.append(translated_text)\n",
    "\n",
    "            # ここに翻訳結果が出力されたら成功（途中経過をjupyter notebookで確認する場合はコメントイン）\n",
    "            #print(translated_text)    \n",
    "            lock.release()\n",
    "\n",
    "            # sourse_textareaをクリアする\n",
    "            time.sleep(2)\n",
    "            stextarea.send_keys(Keys.CONTROL, \"a\")\n",
    "            stextarea.send_keys(Keys.BACKSPACE)\n",
    "            \n",
    "        return translated_texts"
   ]
  },
  {
   "cell_type": "code",
   "execution_count": 3,
   "id": "cd1871e6",
   "metadata": {},
   "outputs": [
    {
     "name": "stdout",
     "output_type": "stream",
     "text": [
      "Element not found\n"
     ]
    }
   ],
   "source": [
    "from bs4 import BeautifulSoup\n",
    "import requests\n",
    "\n",
    "sourse_text = \"こんにちは\"\n",
    "\n",
    "url = \"https://www.deepl.com/ja/translator\"\n",
    "\n",
    "data = {\n",
    "    \"text\": sourse_text,\n",
    "    \"source_lang\": \"EN\",\n",
    "    \"target_lang\": \"JA\"\n",
    "}\n",
    "\n",
    "res = requests.post(url, data=data)\n",
    "soup = BeautifulSoup(res.text, 'html.parser')\n",
    "\n",
    "translated = soup.find(\"div\", {\"class\":\"lmt__translations_as_text\"})\n",
    "\n",
    "if translated:\n",
    "    translated_text = translated.text\n",
    "    print(translated_text)\n",
    "else:\n",
    "    print(\"Element not found\")\n",
    "\n"
   ]
  },
  {
   "cell_type": "code",
   "execution_count": null,
   "id": "d634246b",
   "metadata": {},
   "outputs": [],
   "source": [
    "#headlessui-tabs-panel-7 > div > div.border-dark-7.border.bg-white.shadow-sm.xl\\:rounded-lg > section > div > div.rounded-bl-inherit.rounded-br-inherit.grid.grid-cols-1.grid-rows-\\[auto_auto\\].min-\\[768px\\]\\:grid-cols-\\[1fr_auto_1fr\\].min-\\[768px\\]\\:grid-rows-\\[1fr\\].TextTranslatorLayout-module--bothareas--wXSVy > div.rounded-bl-inherit.relative.z-\\[1\\].min-h-\\[240px\\].min-w-0.md\\:min-h-\\[clamp\\(250px\\,50vh\\,557px\\)\\] > section > div > div.relative.flex-1 > d-textarea > div:nth-child(1)"
   ]
  },
  {
   "attachments": {},
   "cell_type": "markdown",
   "id": "c02c1f9e",
   "metadata": {},
   "source": [
    "## end point"
   ]
  },
  {
   "cell_type": "code",
   "execution_count": 3,
   "id": "2a80734c",
   "metadata": {},
   "outputs": [
    {
     "name": "stdout",
     "output_type": "stream",
     "text": [
      "translation\n"
     ]
    }
   ],
   "source": [
    "print(\"translation\")"
   ]
  },
  {
   "cell_type": "code",
   "execution_count": 4,
   "id": "fb0299c4-5555-4521-a44d-9f6b0b6e5407",
   "metadata": {},
   "outputs": [
    {
     "name": "stdout",
     "output_type": "stream",
     "text": [
      "False\n"
     ]
    },
    {
     "ename": "AttributeError",
     "evalue": "'NoneType' object has no attribute 'group'",
     "output_type": "error",
     "traceback": [
      "\u001b[1;31m---------------------------------------------------------------------------\u001b[0m",
      "\u001b[1;31mAttributeError\u001b[0m                            Traceback (most recent call last)",
      "\u001b[1;32m~\\AppData\\Local\\Temp/ipykernel_12576/2577926793.py\u001b[0m in \u001b[0;36m<module>\u001b[1;34m\u001b[0m\n\u001b[0;32m      8\u001b[0m \u001b[0mcan_translated\u001b[0m \u001b[1;33m=\u001b[0m \u001b[0mre\u001b[0m\u001b[1;33m.\u001b[0m\u001b[0msearch\u001b[0m\u001b[1;33m(\u001b[0m\u001b[1;34m\"\\[\\.\\.\\.\\]\"\u001b[0m\u001b[1;33m,\u001b[0m \u001b[0mtranslated_text\u001b[0m\u001b[1;33m)\u001b[0m\u001b[1;33m\u001b[0m\u001b[1;33m\u001b[0m\u001b[0m\n\u001b[0;32m      9\u001b[0m \u001b[0mprint\u001b[0m\u001b[1;33m(\u001b[0m\u001b[0mtype\u001b[0m\u001b[1;33m(\u001b[0m\u001b[0mcan_translated\u001b[0m\u001b[1;33m)\u001b[0m \u001b[1;32mis\u001b[0m \u001b[0mre\u001b[0m\u001b[1;33m.\u001b[0m\u001b[0mMatch\u001b[0m\u001b[1;33m)\u001b[0m\u001b[1;33m\u001b[0m\u001b[1;33m\u001b[0m\u001b[0m\n\u001b[1;32m---> 10\u001b[1;33m \u001b[0mprint\u001b[0m\u001b[1;33m(\u001b[0m\u001b[0mcan_translated\u001b[0m\u001b[1;33m.\u001b[0m\u001b[0mgroup\u001b[0m\u001b[1;33m(\u001b[0m\u001b[1;33m)\u001b[0m\u001b[1;33m)\u001b[0m\u001b[1;33m\u001b[0m\u001b[1;33m\u001b[0m\u001b[0m\n\u001b[0m",
      "\u001b[1;31mAttributeError\u001b[0m: 'NoneType' object has no attribute 'group'"
     ]
    }
   ],
   "source": [
    "import re\n",
    "translated_text = \"\"\"ここで、z（次元の長さ。以下、次元は括弧内に表記し、[L]ength, [M]ass, [T]time と略す）は河道の標高、x [L] は縦座標、A [L2 ] は排水面積、U [L T1 ] は隆起率、K [T1 L(12m) ] は気候・岩相等の影響を包含したエロディビリティ係数である。指数 m と n は経験的に導かれた係数であるが、n の値は岩盤切開の力学に基づいて提案されており、2/3 から 7/3 の間である [Whipple et al.，2000]。\n",
    "                    U と K は共に空間と時間の関数であり、K は土砂供給量の関数でもある [Sklar and Dietrich, 2004; Cowie et al., 2008; Hobley et al., 2011]、\n",
    "                    侵食閾値と流路幅の調整の影響を取り込む [Snyder et al., 2003; Lague, 2010; Attal et al., 2011 など] ことができる。\n",
    "                    ストリームパワーアプローチとその限界、および代替案については、Lague [2013]がレビューしている。\n",
    "                    Perron and Royden [2013]によって考案された積分法（Royden and Perron [2013]も参照）は，\n",
    "                    調査対象の流路の進化が式（1）で記述できることを前提としている．\"\"\"\n",
    "can_translated = re.search(\"\\[\\.\\.\\.\\]\", translated_text)\n",
    "print(type(can_translated) is re.Match)\n",
    "print(can_translated.group())"
   ]
  },
  {
   "cell_type": "code",
   "execution_count": 7,
   "id": "58fba6bb-f14e-41c6-b04d-d94d9be784ef",
   "metadata": {},
   "outputs": [],
   "source": [
    "word_dict = {\n",
    "                \"ニックスゾーン\": \"ニックゾーン\",\n",
    "                \"ナイフゾーン\": \"ニックゾーン\",\n",
    "                \"ニックスポイント\": \"ニックポイント\",\n",
    "                \"キックポイント\": \"ニックポイント\",\n",
    "                \"ナイフポイント\": \"ニックポイント\",\n",
    "                \"ノッチポイント\": \"ニックポイント\",\n",
    "                \"浸食\": \"侵食\",\n",
    "                \"切り込み\": \"侵食\",\n",
    "                \"侵食効率\": \"侵食速度\", \n",
    "                \"侵食率\": \"侵食速度\",\n",
    "                \"基盤レベル\":\"ベースレベル\",\n",
    "                \"基底レベル\":\"ベ-スレベル\",\n",
    "                \"ランドスケープ\": \"地形\",\n",
    "                \"景観\": \"地形\",\n",
    "                \"風景\": \"地形\",\n",
    "                \"岩石の隆起\": \"隆起\",\n",
    "                \"岩盤の隆起\": \"隆起\",\n",
    "                \"捕獲\": \"河川争奪\",\n",
    "                \"ストリームキャプチャー\": \"河川争奪\",\n",
    "                \"集水域\": \"流域\",\n",
    "                \"排水面積\": \"流域面積\",\n",
    "                \"盆地\": \"流域\",\n",
    "                \"ディバイド\" : \"分水界\",\n",
    "                \"分水嶺\" : \"分水界\",\n",
    "                \"流力モデル\":\"ストリームパワーモデル\",\n",
    "                \"います。\" : \"いる。\",\n",
    "                \"排水路ネットワーク\": \"流路網\",\n",
    "                \"排水ネットワーク\": \"流路網\",\n",
    "                }"
   ]
  },
  {
   "cell_type": "code",
   "execution_count": 10,
   "id": "55e5b338-5a30-4afa-9135-51e9fbf6aed6",
   "metadata": {},
   "outputs": [
    {
     "name": "stdout",
     "output_type": "stream",
     "text": [
      "\n",
      " 河川は通常、急勾配で凸状の{0}区間内で{1}を局限することによって、水位低下に対応する。局所的な侵食は、{0}区間を上流に移動させる。このような移動する{0}は、テクトニクスや{2}の変化に対する地形の反応のペースを決定し、{3}の低下のタイミングと原因を定量化するのに役立つ。{0}の同定には、通常、急勾配の区間を個別に選択する必要がある。このプロセスは面倒で主観的であり、{0}のサイズを測定する効率的な手段もない。我々は、χ空間（流域面積の正規化）の枠組みでニックゾーン区間の境界を選択することにより、この手順を自動化するアルゴリズムを構築した。自動化機能により、ユーザーが選んだニックゾーンのサブセットに対してアルゴリズムのパラメータを較正する。アルゴリズムは、これらのパラメータを一貫した基準として使用し、{0}を客観的に特定し、各{0}リーチの高さ、長さ、および傾斜を測定する。我々は、南カリフォルニアのサンタクルーズ島にある6つの集水域（幹流の長さ：2.1～5.4km）の1、10、30m解像度のデジタル標高モデル（DEM）を用いてアルゴリズムをテストした。1 m DEMでは、アルゴリズムで選択されたニックゾーンは、手作業で選択されたニックゾーン（n = 178）の93%（100 m以下の空間精度）、88%（50 m以内の精度）、46%（10 m以内の精度）を確認しました。10 mと30 m DEMでは、同様の精度（100 m以下で88-86%、50 m以下で82%）でした（それぞれn = 38 と36）。本アルゴリズムにより、地質構造、地図上の地形、丘陵斜面の形態と{0}のサイズと位置を効率的に地域比較することができ、過渡的な{4}のダイナミクスを特徴付けるアプローチを促進することができる。\n",
      "\n",
      " 河川は通常、急勾配で凸状のニックゾーン区間内で侵食を局限することによって、水位低下に対応する。局所的な侵食は、ニックゾーン区間を上流に移動させる。このような移動するニックゾーンは、テクトニクスや侵食速度の変化に対する地形の反応のペースを決定し、ベースレベルの低下のタイミングと原因を定量化するのに役立つ。ニックゾーンの同定には、通常、急勾配の区間を個別に選択する必要がある。このプロセスは面倒で主観的であり、ニックゾーンのサイズを測定する効率的な手段もない。我々は、χ空間（流域面積の正規化）の枠組みでニックゾーン区間の境界を選択することにより、この手順を自動化するアルゴリズムを構築した。自動化機能により、ユーザーが選んだニックゾーンのサブセットに対してアルゴリズムのパラメータを較正する。アルゴリズムは、これらのパラメータを一貫した基準として使用し、ニックゾーンを客観的に特定し、各ニックゾーンリーチの高さ、長さ、および傾斜を測定する。我々は、南カリフォルニアのサンタクルーズ島にある6つの集水域（幹流の長さ：2.1～5.4km）の1、10、30m解像度のデジタル標高モデル（DEM）を用いてアルゴリズムをテストした。1 m DEMでは、アルゴリズムで選択されたニックゾーンは、手作業で選択されたニックゾーン（n = 178）の93%（100 m以下の空間精度）、88%（50 m以内の精度）、46%（10 m以内の精度）を確認しました。10 mと30 m DEMでは、同様の精度（100 m以下で88-86%、50 m以下で82%）でした（それぞれn = 38 と36）。本アルゴリズムにより、地質構造、地図上の地形、丘陵斜面の形態とニックゾーンのサイズと位置を効率的に地域比較することができ、過渡的な地形のダイナミクスを特徴付けるアプローチを促進することができる。\n"
     ]
    }
   ],
   "source": [
    "sentence = \"河川は通常、急勾配で凸状のニックスゾーン区間内で浸食を局限することによって、水位低下に対応する。局所的な侵食は、ニックスゾーン区間を上流に移動させる。このような移動するニックスゾーンは、テクトニクスや侵食効率の変化に対する地形の反応のペースを決定し、基盤レベルの低下のタイミングと原因を定量化するのに役立つ。ニックスゾーンの同定には、通常、急勾配の区間を個別に選択する必要がある。このプロセスは面倒で主観的であり、ニックスゾーンのサイズを測定する効率的な手段もない。我々は、χ空間（流域面積の正規化）の枠組みでニックゾーン区間の境界を選択することにより、この手順を自動化するアルゴリズムを構築した。自動化機能により、ユーザーが選んだニックゾーンのサブセットに対してアルゴリズムのパラメータを較正する。アルゴリズムは、これらのパラメータを一貫した基準として使用し、ニックスゾーンを客観的に特定し、各ニックスゾーンリーチの高さ、長さ、および傾斜を測定する。我々は、南カリフォルニアのサンタクルーズ島にある6つの集水域（幹流の長さ：2.1～5.4km）の1、10、30m解像度のデジタル標高モデル（DEM）を用いてアルゴリズムをテストした。1 m DEMでは、アルゴリズムで選択されたニックゾーンは、手作業で選択されたニックゾーン（n = 178）の93%（100 m以下の空間精度）、88%（50 m以内の精度）、46%（10 m以内の精度）を確認しました。10 mと30 m DEMでは、同様の精度（100 m以下で88-86%、50 m以下で82%）でした（それぞれn = 38 と36）。本アルゴリズムにより、地質構造、地図上の地形、丘陵斜面の形態とニックスゾーンのサイズと位置を効率的に地域比較することができ、過渡的なランドスケープのダイナミクスを特徴付けるアプローチを促進することができる。\"\n",
    "replace_dict = {'ニックスゾーン': \"ニックゾーン\",\n",
    "                \"浸食\": \"侵食\",\n",
    "                \"侵食効率\": \"侵食速度\", \n",
    "                \"基盤レベル\": \"ベースレベル\",\n",
    "                \"ランドスケープ\": \"地形\",\n",
    "                }\n",
    "index_list = []\n",
    "for i, item in enumerate(replace_dict.items()):\n",
    "    sentence = sentence.replace(item[0], '{'+str(i)+'}')\n",
    "    index_list.append(item[1])\n",
    "print('\\n', sentence)\n",
    "sentence = sentence.format(*index_list)\n",
    "print('\\n', sentence)"
   ]
  },
  {
   "cell_type": "code",
   "execution_count": 12,
   "id": "a2edb9ac-1d90-48df-a8ed-4e66d7306abc",
   "metadata": {},
   "outputs": [
    {
     "name": "stdout",
     "output_type": "stream",
     "text": [
      "True\n"
     ]
    }
   ],
   "source": [
    "print(type(replace_dict) == dict)"
   ]
  },
  {
   "cell_type": "code",
   "execution_count": null,
   "id": "dd810a55-dac5-4cc9-9278-70abc78171fb",
   "metadata": {},
   "outputs": [],
   "source": []
  }
 ],
 "metadata": {
  "kernelspec": {
   "display_name": "Python 3.8.0 ('translation_dev')",
   "language": "python",
   "name": "python3"
  },
  "language_info": {
   "codemirror_mode": {
    "name": "ipython",
    "version": 3
   },
   "file_extension": ".py",
   "mimetype": "text/x-python",
   "name": "python",
   "nbconvert_exporter": "python",
   "pygments_lexer": "ipython3",
   "version": "3.10.13"
  },
  "vscode": {
   "interpreter": {
    "hash": "18b957c9e8d5aaa7908da56451be5fc4eea397278b5e97527909761e26652314"
   }
  }
 },
 "nbformat": 4,
 "nbformat_minor": 5
}
