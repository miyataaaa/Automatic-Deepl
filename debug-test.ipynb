{
 "cells": [
  {
   "cell_type": "code",
   "execution_count": 4,
   "metadata": {},
   "outputs": [
    {
     "name": "stdout",
     "output_type": "stream",
     "text": [
      "translated_text: \n",
      "\n",
      "try again\n",
      "\n",
      "translated_text: リンゴとオレンジは好きだけど、バナナは苦手😆。\n",
      "'リンゴとオレンジは好きだけど、バナナは苦手😆。'\n"
     ]
    }
   ],
   "source": [
    "from selenium import webdriver\n",
    "from selenium.webdriver.chrome.options import Options\n",
    "from selenium.webdriver.common.by import By\n",
    "from selenium.webdriver.common.keys import Keys\n",
    "from threading import Lock\n",
    "import time\n",
    "import re\n",
    "from pprint import pprint\n",
    "\n",
    "# options = Options()\n",
    "# options.add_argument('--headless')\n",
    "# browser = webdriver.Chrome(options=options)\n",
    "browser = webdriver.Chrome()\n",
    "\n",
    "deepl_url = 'https://www.deepl.com/ja/translator'\n",
    "\n",
    "eg = \"apple and orange, i like them. but i don't like banana 😆\"\n",
    "# eg = '⚪📢😆'\n",
    "\n",
    "browser.get(deepl_url)\n",
    "\n",
    "css_selector_for_stextarea = \"\"\"\n",
    "#headlessui-tabs-panel-7 > div > div.border-dark-7.border.bg-white.shadow-sm.xl\\:rounded-lg > section > div > div.rounded-bl-inherit.rounded-br-inherit.grid.grid-cols-1.grid-rows-\\[auto_auto\\].min-\\[768px\\]\\:grid-cols-\\[1fr_auto_1fr\\].min-\\[768px\\]\\:grid-rows-\\[1fr\\].TextTranslatorLayout-module--bothareas--wXSVy > div.rounded-bl-inherit.relative.z-\\[1\\].min-h-\\[240px\\].min-w-0.md\\:min-h-\\[clamp\\(250px\\,50vh\\,557px\\)\\] > section > div > div.relative.flex-1 > d-textarea > div:nth-child(1)\n",
    "\"\"\"\n",
    "\n",
    "css_selector_for_ttextarea = \"\"\"\n",
    "#headlessui-tabs-panel-7 > div > div.border-dark-7.border.bg-white.shadow-sm.xl\\:rounded-lg > section > div > div.rounded-bl-inherit.rounded-br-inherit.grid.grid-cols-1.grid-rows-\\[auto_auto\\].min-\\[768px\\]\\:grid-cols-\\[1fr_auto_1fr\\].min-\\[768px\\]\\:grid-rows-\\[1fr\\].TextTranslatorLayout-module--bothareas--wXSVy > div.rounded-br-inherit.relative.z-\\[1\\].min-h-\\[240px\\].min-w-0.md\\:min-h-\\[clamp\\(250px\\,50vh\\,557px\\)\\].max-\\[768px\\]\\:min-h-\\[375px\\] > section > div.relative.flex.flex-1.flex-col > d-textarea > div\n",
    "\"\"\"\n",
    "lock = Lock()\n",
    "lock.acquire()\n",
    "\n",
    "stextarea = browser.find_element(By.CSS_SELECTOR, css_selector_for_stextarea)\n",
    "ttextarea = browser.find_element(By.CSS_SELECTOR, css_selector_for_ttextarea)\n",
    "\n",
    "# stextarea.send_keys(eg)\n",
    "\n",
    "# INPUT_EMOJI = \"\"\"\n",
    "# arguments[0].value += arguments[1];\n",
    "# arguments[0].dispatchEvent(new Event('change'));\n",
    "# \"\"\"\n",
    "\n",
    "INPUT_EMOJI = 'arguments[0].innerHTML = \"{}\"'.format(eg)\n",
    "\n",
    "# INPUT_EMOJI = '''\n",
    "# arguments[0].innerHTML = arguments[1];\n",
    "# arguments[0].dispatchEvent(new Event('change'));\n",
    "# '''\n",
    "\n",
    "# browser.execute_script(INPUT_EMOJI, stextarea, eg)\n",
    "# stextarea.send_keys(Keys.ENTER)\n",
    "\n",
    "browser.execute_script(INPUT_EMOJI, stextarea)\n",
    "stextarea.send_keys('.')\n",
    "stextarea.send_keys(Keys.BACKSPACE)\n",
    "\n",
    "lock.release()\n",
    "            #time.sleep(2)\n",
    "\n",
    "translated_text = ''\n",
    "translated_texts = []\n",
    "\n",
    "lock.acquire()\n",
    "# 完全に翻訳されるまで繰り返す。判定は翻訳後文章の文字数が0かどうか\n",
    "# 文字数が0の場合は繰り返される。\n",
    "sec = 2\n",
    "\n",
    "stop_iter = 4\n",
    "iter = 0\n",
    "while not translated_text:\n",
    "    # print(\"keep now....\")\n",
    "    time.sleep(sec)\n",
    "    translated_text = ttextarea.text\n",
    "    print(f\"translated_text: {translated_text}\")\n",
    "    # print(\"translated_text: \\n{}\\n len: {}\\n \".format(translated_text, len(translated_text))) \n",
    "    can_translated = re.search(\"\\[\\.\\.\\.\\]\", translated_text)\n",
    "    if type(can_translated) is re.Match:\n",
    "        print(\"\\ntry again\\n\")\n",
    "        translated_text = ''\n",
    "        sec += 2\n",
    "    elif len(translated_text) == 0: # 翻訳されていない場合（[...]すら表示されていないパターン）\n",
    "        print(\"\\ntry again\\n\")\n",
    "        translated_text = ''\n",
    "        sec += 2\n",
    "    else:\n",
    "        translated_texts.append(translated_text)\n",
    "\n",
    "    iter += 1\n",
    "    if iter > stop_iter:\n",
    "        break\n",
    "# ここに翻訳結果が出力されたら成功（途中経過をjupyter notebookで確認する場合はコメントイン）\n",
    "#print(translated_text)    \n",
    "lock.release()\n",
    "\n",
    "# sourse_textareaをクリアする\n",
    "time.sleep(2)\n",
    "stextarea.send_keys(Keys.CONTROL, \"a\")\n",
    "stextarea.send_keys(Keys.BACKSPACE)\n",
    "\n",
    "\n",
    "# 翻訳結果を出力\n",
    "for translated_text in translated_texts:\n",
    "    pprint(translated_text)"
   ]
  },
  {
   "cell_type": "code",
   "execution_count": 5,
   "metadata": {},
   "outputs": [
    {
     "data": {
      "text/plain": [
       "selenium.webdriver.remote.webelement.WebElement"
      ]
     },
     "execution_count": 5,
     "metadata": {},
     "output_type": "execute_result"
    }
   ],
   "source": [
    "type(stextarea)"
   ]
  },
  {
   "cell_type": "code",
   "execution_count": null,
   "metadata": {},
   "outputs": [],
   "source": [
    "browser.execute_script"
   ]
  },
  {
   "cell_type": "code",
   "execution_count": 4,
   "metadata": {},
   "outputs": [
    {
     "data": {
      "text/plain": [
       "['__abstractmethods__',\n",
       " '__class__',\n",
       " '__delattr__',\n",
       " '__dict__',\n",
       " '__dir__',\n",
       " '__doc__',\n",
       " '__eq__',\n",
       " '__format__',\n",
       " '__ge__',\n",
       " '__getattribute__',\n",
       " '__gt__',\n",
       " '__hash__',\n",
       " '__init__',\n",
       " '__init_subclass__',\n",
       " '__le__',\n",
       " '__lt__',\n",
       " '__module__',\n",
       " '__ne__',\n",
       " '__new__',\n",
       " '__reduce__',\n",
       " '__reduce_ex__',\n",
       " '__repr__',\n",
       " '__setattr__',\n",
       " '__sizeof__',\n",
       " '__str__',\n",
       " '__subclasshook__',\n",
       " '__weakref__',\n",
       " '_abc_impl',\n",
       " '_execute',\n",
       " '_id',\n",
       " '_parent',\n",
       " '_upload',\n",
       " 'accessible_name',\n",
       " 'aria_role',\n",
       " 'clear',\n",
       " 'click',\n",
       " 'find_element',\n",
       " 'find_elements',\n",
       " 'get_attribute',\n",
       " 'get_dom_attribute',\n",
       " 'get_property',\n",
       " 'id',\n",
       " 'is_displayed',\n",
       " 'is_enabled',\n",
       " 'is_selected',\n",
       " 'location',\n",
       " 'location_once_scrolled_into_view',\n",
       " 'parent',\n",
       " 'rect',\n",
       " 'screenshot',\n",
       " 'screenshot_as_base64',\n",
       " 'screenshot_as_png',\n",
       " 'send_keys',\n",
       " 'shadow_root',\n",
       " 'size',\n",
       " 'submit',\n",
       " 'tag_name',\n",
       " 'text',\n",
       " 'value_of_css_property']"
      ]
     },
     "execution_count": 4,
     "metadata": {},
     "output_type": "execute_result"
    }
   ],
   "source": [
    "dir(ttextarea)"
   ]
  },
  {
   "cell_type": "code",
   "execution_count": 5,
   "metadata": {},
   "outputs": [
    {
     "data": {
      "text/plain": [
       "'アップル'"
      ]
     },
     "execution_count": 5,
     "metadata": {},
     "output_type": "execute_result"
    }
   ],
   "source": [
    "ttextarea.text"
   ]
  },
  {
   "cell_type": "code",
   "execution_count": null,
   "metadata": {},
   "outputs": [],
   "source": []
  },
  {
   "cell_type": "code",
   "execution_count": null,
   "metadata": {},
   "outputs": [],
   "source": [
    "\"\"\"\n",
    "//*[@id=\"headlessui-tabs-panel-7\"]/div/div[1]/section/div/div[2]/div[1]/section/div/div[1]/d-textarea/div[1]/p\n",
    "\"\"\"\n",
    "\n",
    "\"\"\"\n",
    "#headlessui-tabs-panel-7 > div > div.border-dark-7.border.bg-white.shadow-sm.xl\\:rounded-lg > section > div > div.rounded-bl-inherit.rounded-br-inherit.grid.grid-cols-1.grid-rows-\\[auto_auto\\].min-\\[768px\\]\\:grid-cols-\\[1fr_auto_1fr\\].min-\\[768px\\]\\:grid-rows-\\[1fr\\].TextTranslatorLayout-module--bothareas--wXSVy > div.rounded-bl-inherit.relative.z-\\[1\\].min-h-\\[240px\\].min-w-0.md\\:min-h-\\[clamp\\(250px\\,50vh\\,557px\\)\\] > section > div > div.relative.flex-1 > d-textarea > div:nth-child(1)\n",
    "\"\"\""
   ]
  }
 ],
 "metadata": {
  "kernelspec": {
   "display_name": "translation_dev",
   "language": "python",
   "name": "python3"
  },
  "language_info": {
   "codemirror_mode": {
    "name": "ipython",
    "version": 3
   },
   "file_extension": ".py",
   "mimetype": "text/x-python",
   "name": "python",
   "nbconvert_exporter": "python",
   "pygments_lexer": "ipython3",
   "version": "3.10.13"
  }
 },
 "nbformat": 4,
 "nbformat_minor": 2
}
